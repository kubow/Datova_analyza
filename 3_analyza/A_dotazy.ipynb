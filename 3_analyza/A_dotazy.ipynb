{
 "cells": [
  {
   "cell_type": "markdown",
   "id": "d191b879",
   "metadata": {},
   "source": [
    "# Dotazování na data\n",
    "\n",
    "Pro jednodušší datové sety uložené v základních formátech (TXT, CSV, XLS, ...) obecně platí, že jejich prohlížení a úpravy lze provádět v základních programech (uvedeno v [sekci inicializace/software](../1_inicializace/B_software.ipynb)). U složitějších datových setů (více než 1 tabulka) pak používáme k dotazování jednu z následujících metod extrakce dat:\n",
    "\n",
    "- SQL\n",
    "- Python\n",
    "- R\n",
    "- další jazyky sloužící k získání dat\n",
    "\n"
   ]
  },
  {
   "cell_type": "markdown",
   "id": "dc0fad2b",
   "metadata": {},
   "source": [
    "## SQL (Structured Query Language)\n",
    "\n",
    "Jazyk SQL slouží k dotazování na data uložená ve strukturované podobě především v relačních databázových systémech (RDBMS).\n",
    "Pomocí SQL lze dokonce měnit strukturu dat i data samotná. SQL se skládá z několika klíčových slov, které byly standartizovány na konci 80. let.\n",
    "\n",
    "Obecná struktura výběrového dotazu je následující:\n",
    "\n",
    "![](../obr/SQL_SELECT_structure.svg)\n",
    "\n",
    "Pro úpravu dat v jazyce SQL se používá následující struktura:\n",
    "\n",
    "![](../obr/SQL_UPDATE_structure.svg)"
   ]
  },
  {
   "cell_type": "code",
   "execution_count": null,
   "id": "8ffab034",
   "metadata": {},
   "outputs": [],
   "source": []
  },
  {
   "cell_type": "code",
   "execution_count": null,
   "id": "1a349cb0",
   "metadata": {},
   "outputs": [],
   "source": []
  }
 ],
 "metadata": {
  "jupytext": {
   "cell_metadata_filter": "-all",
   "main_language": "python",
   "notebook_metadata_filter": "-all"
  },
  "jupytext_formats": "ipynb,md",
  "kernelspec": {
   "display_name": "Python 3",
   "language": "python",
   "name": "python3"
  },
  "language_info": {
   "codemirror_mode": {
    "name": "ipython",
    "version": 3
   },
   "file_extension": ".py",
   "mimetype": "text/x-python",
   "name": "python",
   "nbconvert_exporter": "python",
   "pygments_lexer": "ipython3",
   "version": "3.9.1"
  }
 },
 "nbformat": 4,
 "nbformat_minor": 5
}
