{
 "cells": [
  {
   "cell_type": "markdown",
   "id": "d191b879",
   "metadata": {},
   "source": [
    "Grafické zobrazení dat\n",
    "\n",
    "-   Kvantitativní\n",
    "\n",
    "\t-   Koláčový graf\n",
    "\t-   Histogram\n",
    "\t-   Bodový diagram\n",
    "\n",
    "-   Kvantitativní\n",
    "\n",
    "\t-   Sloupcový graf\n",
    "\t-   Paretův graf\n",
    "\t-   Teplotní mapa"
   ]
  }
 ],
 "metadata": {
  "jupytext": {
   "cell_metadata_filter": "-all",
   "main_language": "python",
   "notebook_metadata_filter": "-all"
  },
  "jupytext_formats": "ipynb,md",
  "kernelspec": {
   "display_name": "Python 3",
   "language": "python",
   "name": "python3"
  },
  "language_info": {
   "codemirror_mode": {
    "name": "ipython",
    "version": 3
   },
   "file_extension": ".py",
   "mimetype": "text/x-python",
   "name": "python",
   "nbconvert_exporter": "python",
   "pygments_lexer": "ipython3",
   "version": "3.9.1"
  }
 },
 "nbformat": 4,
 "nbformat_minor": 5
}
