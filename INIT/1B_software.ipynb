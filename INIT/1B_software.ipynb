{
 "cells": [
  {
   "cell_type": "markdown",
   "id": "ffcba329",
   "metadata": {},
   "source": [
    "## Programy pro práci s datovými soubory\n",
    "\n",
    "[←](../Readme.md) [→ další sekce](../1C_mindset.md)\n",
    "\n",
    "Níže jsou popsány základní typy datasetů a nástroje, které s nimi umí pracovat\n",
    "\n",
    "Pořadí nástrojů je seřazeno dle abecedy, preference je ponechána čistě na uživateli.\n",
    "\n",
    "### Nástroje pro práci s daty\n",
    "\n",
    "-   Textové a tabulkové procesory \n",
    "-   Programovací jazyky [^programming] \n",
    "\t-   Python (Pandas, SciPy, ...)\n",
    "\t-   R\n",
    "    -   PAW/ROOT[^fortran]\n",
    "\t-   Julia\n",
    "\n",
    "-   Databázový software\n",
    "\n",
    "\t-   XML\n",
    "\t-   MySQL, PostgreSQL, MongoDB\n",
    "\t-   Oracle, SAP, Teradata\n",
    "\n",
    "-   Analytický/Visualizační software\n",
    "\n",
    "\t-   MS PowerBI\n",
    "    -   Orange\n",
    "\t-   Tableau\n",
    "\t-   Qlik\n"
   ]
  },
  {
   "cell_type": "markdown",
   "id": "6ff4c068",
   "metadata": {},
   "source": [
    "### Textové procesory (formáty txt, csv, tsv, out, ...) \n",
    "\n",
    "Do této kategorie lze zanést i strukturované soubory typů JSON, XML. Je třeba však mít na paměti, že uvedné podléhají kontrolám struktury, úpravy se tedy doporučuje provádět za kotroly validátoru. \n",
    "\n",
    "[Notepad++ (notepad-plus-plus.org)](https://notepad-plus-plus.org/)\n",
    "\n",
    "[PSPad - free unicode vývojářský textový editor](http://www.pspad.com/cz/download.php)\n",
    "\n",
    "[Visual Studio Code - Code Editing. Redefined](https://code.visualstudio.com/)\n",
    "\n",
    "### Tabulkové procesory (formáty xls, xlsx, odf, ...)\n",
    "\n",
    "[Apache OpenOffice Calc](http://www.openoffice.org/product/calc.html)\n",
    "\n",
    "[FreeOffice for Windows, Mac and Linux](https://www.freeoffice.com/en/)\n",
    "\n",
    "[Google Tabulky – zdarma vytvářejte a upravujte tabulky online.](https://www.google.co.uk/sheets/about/)\n",
    "\n",
    "[LibreOffice Calc - Based on OpenOffice](https://www.libreoffice.org/discover/calc/)\n",
    "\n",
    "[Microsoft Excel Spreadsheet Software](https://www.microsoft.com/en-us/microsoft-365/excel)\n",
    "\n",
    "[Polaris Office Free Office Suite](https://www.polarisoffice.com/en/office)\n",
    "\n",
    "[Zoho Sheet | Online Spreadsheet Software](https://www.zoho.com/sheet/?src=zoho-home&ireft=ohome)\n"
   ]
  },
  {
   "cell_type": "markdown",
   "id": "43fc30be",
   "metadata": {},
   "source": [
    "### Databáze\n",
    "\n",
    "#### SQLite (formáty db, sqlite, ...) \n",
    "\n",
    "[DB Browser for SQLite (sqlitebrowser.org)](https://sqlitebrowser.org/)\n",
    "\n",
    "\n",
    "#### Univerzální prohlížeče\n",
    "\n",
    "[Beekeeper](https://www.beekeeperstudio.io/) - Jednoduchý a bezpečný prohlížečIt is mature and secure enough (electron-based) and platform independent (you did not specify win/linux/mac) however it is missing visual interface for building queries.\n",
    "\n",
    "[Dbeaver](https://dbeaver.io/) - my personal favorite, very broad support of drivers (which can be easily updated), actively maintained and easy to use.\n",
    "\n",
    "[Execute query](http://executequery.org/index.php) - pretty much the same as squirrel, but not that often updated (recently got an update to jre 1.8).\n",
    "\n",
    "[Squirrel SQL](http://www.squirrelsql.org/) - small footprint, universal (both source and os), actively developed java tool. Visual interface is very basic and not intuitive (like in Access).\n",
    "\n",
    "Prohlížení velkého množství databází v jazyce python umožňuje knihovna SQLAlchemy, viz "
   ]
  },
  {
   "cell_type": "markdown",
   "id": "ae3c68d0",
   "metadata": {},
   "source": [
    "--------\n",
    "Poznámky:\n",
    "\n",
    "[^programming]: Srovnání oblíbenosti programovacích jazyků z roku 2020 zdroj [stackoverflow.com](https://insights.stackoverflow.com/survey/2020#technology-most-loved-dreaded-and-wanted-languages).\n",
    "\n",
    "[^fortran]: jedná se o FORTRAN/C++ frameworky pro analýzu dat, které vznikly v [CERN](https://en.wikipedia.org/wiki/CERN)u.\n"
   ]
  }
 ],
 "metadata": {
  "jupytext": {
   "cell_metadata_filter": "-all",
   "main_language": "python",
   "notebook_metadata_filter": "-all"
  },
  "jupytext_formats": "ipynb,md",
  "kernelspec": {
   "display_name": "Python 3",
   "language": "python",
   "name": "python3"
  },
  "language_info": {
   "codemirror_mode": {
    "name": "ipython",
    "version": 3
   },
   "file_extension": ".py",
   "mimetype": "text/x-python",
   "name": "python",
   "nbconvert_exporter": "python",
   "pygments_lexer": "ipython3",
   "version": "3.9.1"
  }
 },
 "nbformat": 4,
 "nbformat_minor": 5
}
