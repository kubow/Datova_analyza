{
 "cells": [
  {
   "cell_type": "markdown",
   "id": "aacd9f23",
   "metadata": {},
   "source": [
    "# Příprava prezentačního prostředí\n",
    "\n",
    "[←](../Readme.md)\n",
    "\n",
    "K prohlížení prezentace je potřeba zvolit jednu z následujících cest:\n",
    "\n",
    "## 1. Prezentační software kancelářského balíku\n",
    "\n",
    "Prezentace je čitelná jednou z následujících aplikací:\n",
    "\n",
    "\n",
    "[Microsoft PowerPoint Slide Presentation Software | Microsoft 365](https://www.microsoft.com/en-us/microsoft-365/powerpoint)\n",
    "\n",
    "[Impress | LibreOffice - Based on OpenOffice](https://www.libreoffice.org/discover/impress/)\n",
    "\n",
    "[Apache OpenOffice Impress](https://www.openoffice.org/product/impress.html)\n",
    "\n",
    "Po výběru aplikace otevřete soubor v kořenové složce kurzu (soubor s názvem [A_Uvod_datova_analyza.pptx](../A_Uvod_datova_analyza.pptx))."
   ]
  },
  {
   "cell_type": "markdown",
   "id": "eb92ebe1",
   "metadata": {},
   "source": [
    "## 2. Markdown editor\n",
    "\n",
    "V případě Markdown<sup>2</sup> (zkratka MD) lze volit prakticky jakýkoliv dostupný editor. Autor používá následující řešení:\n",
    "\n",
    "- [Markdown rozšíření pro Visual Studio Code](https://code.visualstudio.com/Docs/languages/markdown)\n",
    "- [Obsidian - multiplatformní aplikace pro editaci Markdown](https://obsidian.md/)\n",
    "- [Byword - editace Markdown pro Mac](https://apps.apple.com/us/app/byword/id420212497?mt=12)\n",
    "- [Ghostwriter - editace Markdown pro Windows](https://wereturtle.github.io/ghostwriter/)\n",
    "\n"
   ]
  },
  {
   "cell_type": "markdown",
   "id": "d875a809",
   "metadata": {},
   "source": [
    "## 3. Prezentační prostředí python/jupyter\n",
    "\n",
    "Prvním krokem je instalace programovacího jazyka Python (k dispozici ke stažení na [python.org](https://www.python.org/downloads/)). Modul jupyter umožňuje spouštět poznámkové bloky v prostředí tzv. serveru<sup>1</sup>, který běží na Vaší lokální výpočetní stanici a přistupuje se k němu přes webový prohlížeč.\n",
    "\n",
    "V druhém kroku je do jazyka instalováno několik modulů, zde je příklad z příkazové řádky:\n",
    "\n",
    "```bash\n",
    " pip install jupyter  # instalace baliku jupyter (poznamkový blok)\n",
    " pip install pandas   # instalace baliku pro praci s daty\n",
    " pip install plotly   # instalace baliku pro grafickou prezentaci dat\n",
    " jupyter notebook     # spuštění poznámkového bloku ve webovém prohlížeči\n",
    " ```\n",
    "\n",
    "V poslední části je pak odkázáno na adresu ve webovém prohlížeči:\n",
    "> http://localhost:8888/tree\n",
    "\n",
    "\n",
    "\n",
    "Dodatečné nastavení modulu jupytext je uvedeno zde:  Ve většině případů je však možné modul jupyter používat ihned po instalaci.\n",
    "\n",
    "### Jupytext (volitelný krok)\n",
    "\n",
    "Pokud chcete mít jupyter poznámkové bloky synchroniovány s MD soubory, je k tomu potřeba nainstalovat [modul Jupytext](https://jupytext.readthedocs.io/en/latest/install.html). Návod je uveden níže:\n",
    "\n",
    "```bash\n",
    " pip install jupytext --upgrade # volitelný krok pro synchronizaci s markdown\n",
    " jupyter notebook               # spuštění poznámkového bloku ve webovém prohlížeči\n",
    " ```\n"
   ]
  },
  {
   "cell_type": "markdown",
   "id": "1f271f6d",
   "metadata": {},
   "source": [
    "--------\n",
    "Poznámky:\n",
    "\n",
    "\n",
    "<sup>1</sup> - [Jupyter notebooks as Markdown documents](https://pythonawesome.com/jupyter-notebooks-as-markdown-documents/).\n",
    "\n",
    "<sup>2</sup> - Prezentační možnosti Markdown jsou poměrně omezené viz. [dokumentace](https://daringfireball.net/projects/markdown/)."
   ]
  }
 ],
 "metadata": {
  "jupytext": {
   "cell_metadata_filter": "-all",
   "notebook_metadata_filter": "-all"
  },
  "jupytext_formats": "ipynb,md",
  "kernelspec": {
   "display_name": "Python 3",
   "language": "python",
   "name": "python3"
  },
  "language_info": {
   "codemirror_mode": {
    "name": "ipython",
    "version": 3
   },
   "file_extension": ".py",
   "mimetype": "text/x-python",
   "name": "python",
   "nbconvert_exporter": "python",
   "pygments_lexer": "ipython3",
   "version": "3.9.1"
  }
 },
 "nbformat": 4,
 "nbformat_minor": 5
}
