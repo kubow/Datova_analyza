{
 "cells": [
  {
   "cell_type": "markdown",
   "id": "a13276a8",
   "metadata": {},
   "source": [
    "## Typy datových souborů\n",
    "\n",
    " - Textová data\n",
    " - Numerická data\n",
    " - Kategorická data\n",
    " - Časové řady\n",
    " - Grafická data\n",
    " - Mapová data\n",
    " - Moderní datové vstupy\n",
    "\t -  Audiovizuální záznamy\n",
    "\t -  Data sociálních sítí\n",
    "\n",
    "## Data kolem nás\n",
    "\n",
    "-   Statistické\n",
    "-   Finanční\n",
    "-   Vědecké\n",
    "-   Kulturní\n",
    "-   Geografické\n",
    "-   Transportní\n",
    "-   Přírodní\n",
    "-   Meteorologické\n",
    "\n",
    "## Rozdělení dat\n",
    "\n",
    "  - dle typu proměnných\n",
    "  - dle míry\n",
    "\n",
    "#### Data dle typu proměnných\n",
    "\n",
    "-   Kategorické (Kvalitativní)\n",
    "-   Numerické (Kvantitativní)\n",
    "-   Diskrétní\n",
    "-   Spojité\n",
    "\n",
    "#### Data dle míry proměnných\n",
    "\n",
    "-   Nominální\n",
    "-   Ordinální\n",
    "-   Intervalové\n",
    "-   Poměr\n",
    "\n"
   ]
  },
  {
   "cell_type": "markdown",
   "id": "479603e6",
   "metadata": {},
   "source": [
    "## Tabulkové zobrazení dat\n",
    "\n",
    "-   jedné (Univarite)\n",
    "-   dvou (Bivariate)\n",
    "-   více proměnných (Multivariate)"
   ]
  },
  {
   "cell_type": "markdown",
   "id": "20a1abc1",
   "metadata": {},
   "source": [
    "## Zajímavé odkazy\n",
    "\n",
    "[Apache Arrow vs. parquet](http://dbmsmusings.blogspot.com/2017/10/apache-arrow-vs-parquet-and-orc-do-we.html)"
   ]
  },
  {
   "cell_type": "code",
   "execution_count": null,
   "id": "7144608c",
   "metadata": {},
   "outputs": [],
   "source": []
  }
 ],
 "metadata": {
  "jupytext": {
   "cell_metadata_filter": "-all",
   "main_language": "python",
   "notebook_metadata_filter": "-all"
  },
  "jupytext_formats": "ipynb,md",
  "kernelspec": {
   "display_name": "Python 3",
   "language": "python",
   "name": "python3"
  },
  "language_info": {
   "codemirror_mode": {
    "name": "ipython",
    "version": 3
   },
   "file_extension": ".py",
   "mimetype": "text/x-python",
   "name": "python",
   "nbconvert_exporter": "python",
   "pygments_lexer": "ipython3",
   "version": "3.9.1"
  }
 },
 "nbformat": 4,
 "nbformat_minor": 5
}
