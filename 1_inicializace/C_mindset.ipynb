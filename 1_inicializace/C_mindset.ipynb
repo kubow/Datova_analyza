{
 "cells": [
  {
   "cell_type": "markdown",
   "id": "8f68d83e",
   "metadata": {},
   "source": [
    "## Zkratky\n",
    "\n",
    "Databáze zkratek je uložena ve složce zdrojová data.\n",
    "\n",
    "## Statistika\n",
    "\n",
    "Teoretické základy a různá pravidla jsou rozebrána detailněji v sekci 3_Analyza.\n",
    "\n",
    "## Literární zdroje CZ\n",
    "\n",
    "[Základy statistiky (Matematika.cz)](https://www.matweb.cz/zaklady-statistiky/)\n",
    "\n",
    "## Literární zdroje EN\n",
    "\n",
    "[Crash Course on Basic Statistics](https://cbmm.mit.edu/sites/default/files/documents/probability_handout.pdf)\n",
    "\n",
    "[Mathematics for Machine Learning](https://mml-book.com/)\n"
   ]
  },
  {
   "cell_type": "code",
   "execution_count": null,
   "id": "fde94f81",
   "metadata": {},
   "outputs": [],
   "source": []
  }
 ],
 "metadata": {
  "jupytext": {
   "cell_metadata_filter": "-all",
   "notebook_metadata_filter": "-all"
  },
  "jupytext_formats": "ipynb,md",
  "kernelspec": {
   "display_name": "Python 3",
   "language": "python",
   "name": "python3"
  },
  "language_info": {
   "codemirror_mode": {
    "name": "ipython",
    "version": 3
   },
   "file_extension": ".py",
   "mimetype": "text/x-python",
   "name": "python",
   "nbconvert_exporter": "python",
   "pygments_lexer": "ipython3",
   "version": "3.9.1"
  }
 },
 "nbformat": 4,
 "nbformat_minor": 5
}
