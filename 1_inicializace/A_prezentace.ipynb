{
 "cells": [
  {
   "cell_type": "markdown",
   "id": "aacd9f23",
   "metadata": {},
   "source": [
    "K prohlížení prezentace je potřeba zvolit jednu z následujících cest:\n",
    "\n",
    "## 1. Prezentační software kancelářského balíku\n",
    "\n",
    "Soubor je uložen ve formátu pptx, který je čitelý jednou z následujících aplikací:\n",
    "\n",
    "\n"
   ]
  },
  {
   "cell_type": "markdown",
   "id": "d875a809",
   "metadata": {},
   "source": [
    "## 2. modul jupyter z programovacího jazyka python\n",
    "\n",
    "V prvé řadě je zapotřebí nainstalovat moduly jupyter a jupytext a ozkoušet jejich funkčnost.\n",
    "Dodatečné nastavení modulu jupytext je uvedeno zde: [Jupyter notebooks as Markdown documents (pythonawesome.com)](https://pythonawesome.com/jupyter-notebooks-as-markdown-documents/)\n"
   ]
  },
  {
   "cell_type": "code",
   "execution_count": null,
   "id": "49d68230",
   "metadata": {},
   "outputs": [],
   "source": [
    " pip install jupyter  # nainstalovat knihvnu jupyter ()\n",
    " pip install jupytext --upgrade # volitelný krok pro synchronizaci s markdown\n",
    " jupyter notebook\n",
    " ```\n",
    "\n",
    "\n"
   ]
  }
 ],
 "metadata": {
  "jupytext": {
   "cell_metadata_filter": "-all",
   "main_language": "bash",
   "notebook_metadata_filter": "-all"
  }
 },
 "nbformat": 4,
 "nbformat_minor": 5
}
