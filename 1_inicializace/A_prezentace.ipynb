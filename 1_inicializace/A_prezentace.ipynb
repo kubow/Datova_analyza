{
 "cells": [
  {
   "cell_type": "markdown",
   "id": "aacd9f23",
   "metadata": {},
   "source": [
    "K prohlížení prezentace je potřeba zvolit jednu z následujících cest:\n",
    "\n",
    "## 1. Prezentační software kancelářského balíku\n",
    "\n",
    "Prezentace je čitelná jednou z následujících aplikací:\n",
    "\n",
    "\n",
    "[Microsoft PowerPoint Slide Presentation Software | Microsoft 365](https://www.microsoft.com/en-us/microsoft-365/powerpoint)\n",
    "\n",
    "[Impress | LibreOffice - Based on OpenOffice](https://www.libreoffice.org/discover/impress/)\n",
    "\n",
    "[Apache OpenOffice Impress](https://www.openoffice.org/product/impress.html)\n",
    "\n",
    "Po výběru aplikace otevřete soubor v kořenové složce kurzu (soubor s názvem [A_Uvod_datova_analyza.pptx](../A_Uvod_datova_analyza.pptx))."
   ]
  },
  {
   "cell_type": "markdown",
   "id": "d875a809",
   "metadata": {},
   "source": [
    "## 2. modul jupyter z programovacího jazyka Python\n",
    "\n",
    "Prvním krokem je instalace programovacího jazyka Python (k dispozici [zde](https://www.python.org/downloads/)). Modul jupyter umožňuje spouštět poznámkové bloky v prostředí tzv. serveru, který běží na Vaší lokální výpočetní stanici a přistupuje se k němu přes webový prohlížeč.\n",
    "\n",
    "Instalace a spouštění modulu jupyter se provádí následujícícm způsobem (předpokládá již nainstalovaný programovací jazyk Python):\n",
    "\n",
    "```bash\n",
    " pip install jupyter  # nainstalovat knihvnu jupyter ()\n",
    " jupyter notebook     # spuštění poznámkového bloku ve webovém prohlížeči\n",
    " ```\n",
    "\n",
    "Dodatečné nastavení modulu jupytext je uvedeno zde: [Jupyter notebooks as Markdown documents](https://pythonawesome.com/jupyter-notebooks-as-markdown-documents/). Ve většině případů je však možné modul jupyter používat ihned po instalaci.\n",
    "\n",
    "### 2a. Jupytext (volitelný krok)\n",
    "\n",
    "Pokud chcete mít jupyter poznámkové bloky synchroniovány s Markdown soubory, je k tomu potřeba nainstalovat [modul Jupytext](https://jupytext.readthedocs.io/en/latest/install.html). Návod je uveden níže:\n",
    "\n",
    "```bash\n",
    " pip install jupytext --upgrade # volitelný krok pro synchronizaci s markdown\n",
    " jupyter notebook               # spuštění poznámkového bloku ve webovém prohlížeči\n",
    " ```\n"
   ]
  },
  {
   "cell_type": "markdown",
   "id": "eb92ebe1",
   "metadata": {},
   "source": [
    "## 3. Markdown editor\n",
    "\n",
    "V případě Markdown (MD) lze volit prakticky jakýkoliv dostupný editor. Autor používá následující řešení:\n",
    "\n",
    "- [Markdown rozšíření pro Visual Studio Code](https://code.visualstudio.com/Docs/languages/markdown)\n",
    "- [Obsidian - multiplatformní aplikace pro editaci Markdown](https://obsidian.md/)\n",
    "- [Byword - editace Markdown pro Mac](https://apps.apple.com/us/app/byword/id420212497?mt=12)\n",
    "- [Ghostwriter - editace Markdown pro Windows](https://wereturtle.github.io/ghostwriter/)\n",
    "\n",
    "Poznámka: prezentační možnosti Markdown jsou poměrně omezené, lze je však srovnat s prezentačními možnostmi modulu jupyter bez dalších nainstalovaných modulů."
   ]
  },
  {
   "cell_type": "code",
   "execution_count": null,
   "id": "2b9d4e62",
   "metadata": {},
   "outputs": [],
   "source": []
  }
 ],
 "metadata": {
  "jupytext": {
   "cell_metadata_filter": "-all",
   "notebook_metadata_filter": "-all"
  },
  "jupytext_formats": "ipynb,md",
  "kernelspec": {
   "display_name": "Python 3",
   "language": "python",
   "name": "python3"
  },
  "language_info": {
   "codemirror_mode": {
    "name": "ipython",
    "version": 3
   },
   "file_extension": ".py",
   "mimetype": "text/x-python",
   "name": "python",
   "nbconvert_exporter": "python",
   "pygments_lexer": "ipython3",
   "version": "3.9.1"
  }
 },
 "nbformat": 4,
 "nbformat_minor": 5
}
