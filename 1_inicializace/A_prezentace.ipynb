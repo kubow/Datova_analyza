{
 "cells": [
  {
   "cell_type": "markdown",
   "id": "aacd9f23",
   "metadata": {},
   "source": [
    "K prohlížení prezentace je potřeba zvolit jednu z následujících cest:\n",
    "\n",
    "## 1. Prezentační software kancelářského balíku\n",
    "\n",
    "Soubor je uložen ve formátu pptx, který je čitelý jednou z následujících aplikací:\n",
    "\n",
    "\n",
    "[Microsoft PowerPoint Slide Presentation Software | Microsoft 365](https://www.microsoft.com/en-us/microsoft-365/powerpoint)\n",
    "\n",
    "[Impress | LibreOffice - Based on OpenOffice](https://www.libreoffice.org/discover/impress/)\n",
    "\n",
    "[Apache OpenOffice Impress](https://www.openoffice.org/product/impress.html)"
   ]
  },
  {
   "cell_type": "markdown",
   "id": "d875a809",
   "metadata": {},
   "source": [
    "## 2. modul jupyter z programovacího jazyka python\n",
    "\n",
    "V prvé řadě je zapotřebí nainstalovat moduly jupyter a jupytext a ozkoušet jejich funkčnost.\n",
    "\n",
    "Dodatečné nastavení modulu jupytext je uvedeno zde: [Jupyter notebooks as Markdown documents (pythonawesome.com)](https://pythonawesome.com/jupyter-notebooks-as-markdown-documents/)\n",
    "\n",
    "```bash\n",
    " pip install jupyter  # nainstalovat knihvnu jupyter ()\n",
    " pip install jupytext --upgrade # volitelný krok pro synchronizaci s markdown\n",
    " jupyter notebook\n",
    " ```\n",
    "\n",
    "### 2a. Jupytext (volitelný krok)\n",
    "[Instalace modulu Jupytext](https://jupytext.readthedocs.io/en/latest/install.html) sloužící k synchronizaci jupyter prezentací s MD soubory.\n",
    "\n",
    "```bash\n",
    " pip install jupytext --upgrade # volitelný krok pro synchronizaci s markdown\n",
    " jupyter notebook\n",
    " ```\n"
   ]
  },
  {
   "cell_type": "markdown",
   "id": "eb92ebe1",
   "metadata": {},
   "source": [
    "## 3. Markdown editor\n",
    "\n",
    "V případě Markdown (MD) lze volit prakticky jakýkoliv dostupný editor. Autor používá následující řešení:\n",
    "\n",
    "- [Markdown rozšíření pro Visual Studio Code](https://code.visualstudio.com/Docs/languages/markdown)\n",
    "\n",
    "- [Obsidian - multiplatformní aplikace pro editaci Markdown](https://obsidian.md/)\n",
    "\n",
    "- [Byword - editace Markdown pro Mac](https://apps.apple.com/us/app/byword/id420212497?mt=12)\n",
    "\n",
    "- [Ghostwriter - editace Markdown pro Windows](https://wereturtle.github.io/ghostwriter/)\n",
    "\n"
   ]
  },
  {
   "cell_type": "code",
   "execution_count": null,
   "id": "2b9d4e62",
   "metadata": {},
   "outputs": [],
   "source": []
  }
 ],
 "metadata": {
  "jupytext": {
   "cell_metadata_filter": "-all",
   "notebook_metadata_filter": "-all"
  },
  "jupytext_formats": "ipynb,md",
  "kernelspec": {
   "display_name": "Python 3",
   "language": "python",
   "name": "python3"
  },
  "language_info": {
   "codemirror_mode": {
    "name": "ipython",
    "version": 3
   },
   "file_extension": ".py",
   "mimetype": "text/x-python",
   "name": "python",
   "nbconvert_exporter": "python",
   "pygments_lexer": "ipython3",
   "version": "3.9.1"
  }
 },
 "nbformat": 4,
 "nbformat_minor": 5
}
