{
 "cells": [
  {
   "cell_type": "markdown",
   "id": "ffcba329",
   "metadata": {},
   "source": [
    "## prohlížení datových setů ###\n",
    "\n",
    "Níže jsou popsány základní typy datasetů a nástroje, které s nimi umí pracovat\n",
    "\n",
    "###  TXT - CSV - TSV ###\n",
    "\n",
    "[PSPad - free unicode vývojářský textový editor](http://www.pspad.com/cz/download.php)\n",
    "\n",
    "[Notepad++ (notepad-plus-plus.org)](https://notepad-plus-plus.org/)\n",
    "\n",
    "[Visual Studio Code - Code Editing. Redefined](https://code.visualstudio.com/)\n",
    "\n",
    "Prohlížení dat pomocí programovacího jazyka python:"
   ]
  },
  {
   "cell_type": "code",
   "execution_count": null,
   "id": "4e93b449",
   "metadata": {
    "lines_to_next_cell": 0
   },
   "outputs": [],
   "source": [
    " # nainstalovat knohvnu pandas (pip install pandas)\n",
    " >>> import pandas as pd  # knihovna pandas umí mimo jiné číst xls soubory\n",
    " >>> csv_data = pd.read_csv(\"file.csv\")    # dynamic variable loading\n",
    " >>> fixed_data = pd.read_fwf(\"file.csv\")  # case fixed width table\n",
    " >>> txt_data = []\n",
    " >>> with open('file.txt') as f:\n",
    " >>>     txt_data = f.readlines()\n",
    " ```\n",
    " \n",
    "\n",
    "\n",
    "\n",
    "###  XLS - XLSX - ODF ###\n",
    "\n",
    "[Microsoft Excel Spreadsheet Software](https://www.microsoft.com/en-us/microsoft-365/excel)\n",
    "\n",
    "[Tabulky Google – zdarma vytvářejte a upravujte tabulky online.](https://www.google.co.uk/sheets/about/)\n",
    "\n",
    "[Calc | LibreOffice - Based on OpenOffice](https://www.libreoffice.org/discover/calc/)\n",
    "\n",
    "[Apache OpenOffice Calc](http://www.openoffice.org/product/calc.html)\n",
    "\n",
    "[Online Spreadsheet Software | Zoho Sheet](https://www.zoho.com/sheet/?src=zoho-home&ireft=ohome)\n",
    "\n",
    "[Most Compatible, Light & Free Office Suite - Polaris Office](https://www.polarisoffice.com/en/office)\n",
    "\n",
    "[www.freeoffice.com - FreeOffice for Windows, Mac and Linux](https://www.freeoffice.com/en/)\n",
    "\n",
    "Otevření dat pomocí programovacího jazyka python:\n"
   ]
  },
  {
   "cell_type": "markdown",
   "id": "6ff4c068",
   "metadata": {},
   "source": [
    " # nainstalovat knohvnu pandas (pip install pandas)\n",
    " # spustit apliakci python\n",
    " import pandas as pd  # knihovna pandas umí mimo jiné číst xls soubory\n",
    " data = pd.read_excel(\"2_zdrojova_data/engines.xls\")\n",
    " ```\n",
    " \n",
    " "
   ]
  },
  {
   "cell_type": "code",
   "execution_count": null,
   "id": "4ef84cde",
   "metadata": {},
   "outputs": [],
   "source": [
    " # nainstalovat knohvnu openpyxl / xlrd (pip install openpyxl)  \n",
    " # spustit apliakci python\n",
    " import openpyxl  # knihovna openpyxl umí číst xlsx soubory\n",
    " data = openpyxl.load_workbook(\"file.xlsx\") \n",
    " sheet = data.active  # read active sheet\n",
    " ```\n",
    "\n",
    "\n",
    "\n",
    "### SQLite (.db, .sqlite, ...) ###\n",
    "\n",
    "[DB Browser for SQLite (sqlitebrowser.org)](https://sqlitebrowser.org/)\n",
    "\n",
    "\n",
    "### Univerzální ###\n"
   ]
  }
 ],
 "metadata": {
  "jupytext": {
   "cell_metadata_filter": "-all",
   "main_language": "python",
   "notebook_metadata_filter": "-all"
  },
  "kernelspec": {
   "display_name": "Python 3",
   "language": "python",
   "name": "python3"
  },
  "language_info": {
   "codemirror_mode": {
    "name": "ipython",
    "version": 3
   },
   "file_extension": ".py",
   "mimetype": "text/x-python",
   "name": "python",
   "nbconvert_exporter": "python",
   "pygments_lexer": "ipython3",
   "version": "3.9.1"
  }
 },
 "nbformat": 4,
 "nbformat_minor": 5
}
