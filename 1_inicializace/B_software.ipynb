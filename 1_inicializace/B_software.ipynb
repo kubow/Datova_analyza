{
 "cells": [
  {
   "cell_type": "markdown",
   "id": "ffcba329",
   "metadata": {},
   "source": [
    "# prohlížení datových souborů\n",
    "\n",
    "Níže jsou popsány základní typy datasetů a nástroje, které s nimi umí pracovat\n",
    "\n",
    "Pořadí nástrojů je seřazeno dle abecedy, preference je ponechána čistě na uživateli.\n",
    "\n",
    "Univerzální nástroje k práci s daty\n",
    "\n",
    "-   Programovací jazyky\n",
    "\n",
    "\t-   Python\n",
    "\t-   R\n",
    "\t-   JavaScript\n",
    "\n",
    "-   Tabulkové procesory\n",
    "-   Databázový software\n",
    "\n",
    "\t-   XML\n",
    "\t-   MySQL, PostgreSQL, MongoDB\n",
    "\t-   Oracle, SAP, Teradata\n",
    "\n",
    "-   Visualizační software\n",
    "\n",
    "\t-   MS PowerBI\n",
    "\t-   Tableau\n",
    "\t-   Qlik\n",
    "\n",
    "\n",
    "## Textové soubory (formáty txt, csv, tsv, out, ...) \n",
    "\n",
    "[Notepad++ (notepad-plus-plus.org)](https://notepad-plus-plus.org/)\n",
    "\n",
    "[PSPad - free unicode vývojářský textový editor](http://www.pspad.com/cz/download.php)\n",
    "\n",
    "[Visual Studio Code - Code Editing. Redefined](https://code.visualstudio.com/)\n",
    "\n",
    "Prohlížení dat pomocí programovacího jazyka python:"
   ]
  },
  {
   "cell_type": "code",
   "execution_count": 8,
   "id": "4e93b449",
   "metadata": {
    "lines_to_next_cell": 0,
    "scrolled": true
   },
   "outputs": [
    {
     "name": "stdout",
     "output_type": "stream",
     "text": [
      "       openness  security  open_source  eprice\n",
      "count       0.0      27.0      8.00000     0.0\n",
      "mean        NaN       5.0      0.25000     NaN\n",
      "std         NaN       0.0      0.46291     NaN\n",
      "min         NaN       5.0      0.00000     NaN\n",
      "25%         NaN       5.0      0.00000     NaN\n",
      "50%         NaN       5.0      0.00000     NaN\n",
      "75%         NaN       5.0      0.25000     NaN\n",
      "max         NaN       5.0      1.00000     NaN\n",
      "file total length: 28\n"
     ]
    }
   ],
   "source": [
    "import pandas as pd  # knihovna pandas umí mimo jiné číst xls soubory (! ne xlsx)\n",
    "csv_delimited = pd.read_csv(\"../2_zdrojova_data/A_uloziste/engine_overview_202105140001.csv\")    # dynamic variable loading\n",
    "print(csv_delimited.describe())\n",
    "# csv_fixed = pd.read_fwf(\"../2_zdrojova_data/A_uloziste/engine_overview_202105140001.csv\")  # case fixed width table\n",
    "# print(csv_fixed)\n",
    "txt_data = []\n",
    "with open('../2_zdrojova_data/A_uloziste/engine_overview_202105140001.csv') as f:\n",
    "    txt_data = f.readlines()\n",
    "print(f'file total length: {len(txt_data)}')"
   ]
  },
  {
   "cell_type": "markdown",
   "id": "4833679a",
   "metadata": {},
   "source": [
    "## Strukturované soubory (formáty xml, json)\n",
    "\n",
    "Software se většinou používá identický jako při práci s textovými soubory.\n",
    "\n",
    "Prohlížení dat pomocí programovacího jazyka python:"
   ]
  },
  {
   "cell_type": "code",
   "execution_count": 3,
   "id": "20213d18",
   "metadata": {},
   "outputs": [
    {
     "ename": "JSONDecodeError",
     "evalue": "Expecting value: line 1 column 1 (char 0)",
     "output_type": "error",
     "traceback": [
      "\u001b[1;31m---------------------------------------------------------------------------\u001b[0m",
      "\u001b[1;31mJSONDecodeError\u001b[0m                           Traceback (most recent call last)",
      "\u001b[1;32m<ipython-input-3-b480986aef50>\u001b[0m in \u001b[0;36m<module>\u001b[1;34m\u001b[0m\n\u001b[0;32m      1\u001b[0m \u001b[1;32mimport\u001b[0m \u001b[0mjson\u001b[0m\u001b[1;33m\u001b[0m\u001b[1;33m\u001b[0m\u001b[0m\n\u001b[1;32m----> 2\u001b[1;33m \u001b[0mobsah\u001b[0m \u001b[1;33m=\u001b[0m \u001b[0mjson\u001b[0m\u001b[1;33m.\u001b[0m\u001b[0mloads\u001b[0m\u001b[1;33m(\u001b[0m\u001b[1;34m\"../2_zdrojova_data/A_uloziste/engine_overview_202105140001.json\"\u001b[0m\u001b[1;33m)\u001b[0m\u001b[1;33m\u001b[0m\u001b[1;33m\u001b[0m\u001b[0m\n\u001b[0m\u001b[0;32m      3\u001b[0m \u001b[0mprint\u001b[0m\u001b[1;33m(\u001b[0m\u001b[0mobsah\u001b[0m\u001b[1;33m)\u001b[0m\u001b[1;33m\u001b[0m\u001b[1;33m\u001b[0m\u001b[0m\n",
      "\u001b[1;32mc:\\_run\\app\\python\\lib\\json\\__init__.py\u001b[0m in \u001b[0;36mloads\u001b[1;34m(s, cls, object_hook, parse_float, parse_int, parse_constant, object_pairs_hook, **kw)\u001b[0m\n\u001b[0;32m    344\u001b[0m             \u001b[0mparse_int\u001b[0m \u001b[1;32mis\u001b[0m \u001b[1;32mNone\u001b[0m \u001b[1;32mand\u001b[0m \u001b[0mparse_float\u001b[0m \u001b[1;32mis\u001b[0m \u001b[1;32mNone\u001b[0m \u001b[1;32mand\u001b[0m\u001b[1;33m\u001b[0m\u001b[1;33m\u001b[0m\u001b[0m\n\u001b[0;32m    345\u001b[0m             parse_constant is None and object_pairs_hook is None and not kw):\n\u001b[1;32m--> 346\u001b[1;33m         \u001b[1;32mreturn\u001b[0m \u001b[0m_default_decoder\u001b[0m\u001b[1;33m.\u001b[0m\u001b[0mdecode\u001b[0m\u001b[1;33m(\u001b[0m\u001b[0ms\u001b[0m\u001b[1;33m)\u001b[0m\u001b[1;33m\u001b[0m\u001b[1;33m\u001b[0m\u001b[0m\n\u001b[0m\u001b[0;32m    347\u001b[0m     \u001b[1;32mif\u001b[0m \u001b[0mcls\u001b[0m \u001b[1;32mis\u001b[0m \u001b[1;32mNone\u001b[0m\u001b[1;33m:\u001b[0m\u001b[1;33m\u001b[0m\u001b[1;33m\u001b[0m\u001b[0m\n\u001b[0;32m    348\u001b[0m         \u001b[0mcls\u001b[0m \u001b[1;33m=\u001b[0m \u001b[0mJSONDecoder\u001b[0m\u001b[1;33m\u001b[0m\u001b[1;33m\u001b[0m\u001b[0m\n",
      "\u001b[1;32mc:\\_run\\app\\python\\lib\\json\\decoder.py\u001b[0m in \u001b[0;36mdecode\u001b[1;34m(self, s, _w)\u001b[0m\n\u001b[0;32m    335\u001b[0m \u001b[1;33m\u001b[0m\u001b[0m\n\u001b[0;32m    336\u001b[0m         \"\"\"\n\u001b[1;32m--> 337\u001b[1;33m         \u001b[0mobj\u001b[0m\u001b[1;33m,\u001b[0m \u001b[0mend\u001b[0m \u001b[1;33m=\u001b[0m \u001b[0mself\u001b[0m\u001b[1;33m.\u001b[0m\u001b[0mraw_decode\u001b[0m\u001b[1;33m(\u001b[0m\u001b[0ms\u001b[0m\u001b[1;33m,\u001b[0m \u001b[0midx\u001b[0m\u001b[1;33m=\u001b[0m\u001b[0m_w\u001b[0m\u001b[1;33m(\u001b[0m\u001b[0ms\u001b[0m\u001b[1;33m,\u001b[0m \u001b[1;36m0\u001b[0m\u001b[1;33m)\u001b[0m\u001b[1;33m.\u001b[0m\u001b[0mend\u001b[0m\u001b[1;33m(\u001b[0m\u001b[1;33m)\u001b[0m\u001b[1;33m)\u001b[0m\u001b[1;33m\u001b[0m\u001b[1;33m\u001b[0m\u001b[0m\n\u001b[0m\u001b[0;32m    338\u001b[0m         \u001b[0mend\u001b[0m \u001b[1;33m=\u001b[0m \u001b[0m_w\u001b[0m\u001b[1;33m(\u001b[0m\u001b[0ms\u001b[0m\u001b[1;33m,\u001b[0m \u001b[0mend\u001b[0m\u001b[1;33m)\u001b[0m\u001b[1;33m.\u001b[0m\u001b[0mend\u001b[0m\u001b[1;33m(\u001b[0m\u001b[1;33m)\u001b[0m\u001b[1;33m\u001b[0m\u001b[1;33m\u001b[0m\u001b[0m\n\u001b[0;32m    339\u001b[0m         \u001b[1;32mif\u001b[0m \u001b[0mend\u001b[0m \u001b[1;33m!=\u001b[0m \u001b[0mlen\u001b[0m\u001b[1;33m(\u001b[0m\u001b[0ms\u001b[0m\u001b[1;33m)\u001b[0m\u001b[1;33m:\u001b[0m\u001b[1;33m\u001b[0m\u001b[1;33m\u001b[0m\u001b[0m\n",
      "\u001b[1;32mc:\\_run\\app\\python\\lib\\json\\decoder.py\u001b[0m in \u001b[0;36mraw_decode\u001b[1;34m(self, s, idx)\u001b[0m\n\u001b[0;32m    353\u001b[0m             \u001b[0mobj\u001b[0m\u001b[1;33m,\u001b[0m \u001b[0mend\u001b[0m \u001b[1;33m=\u001b[0m \u001b[0mself\u001b[0m\u001b[1;33m.\u001b[0m\u001b[0mscan_once\u001b[0m\u001b[1;33m(\u001b[0m\u001b[0ms\u001b[0m\u001b[1;33m,\u001b[0m \u001b[0midx\u001b[0m\u001b[1;33m)\u001b[0m\u001b[1;33m\u001b[0m\u001b[1;33m\u001b[0m\u001b[0m\n\u001b[0;32m    354\u001b[0m         \u001b[1;32mexcept\u001b[0m \u001b[0mStopIteration\u001b[0m \u001b[1;32mas\u001b[0m \u001b[0merr\u001b[0m\u001b[1;33m:\u001b[0m\u001b[1;33m\u001b[0m\u001b[1;33m\u001b[0m\u001b[0m\n\u001b[1;32m--> 355\u001b[1;33m             \u001b[1;32mraise\u001b[0m \u001b[0mJSONDecodeError\u001b[0m\u001b[1;33m(\u001b[0m\u001b[1;34m\"Expecting value\"\u001b[0m\u001b[1;33m,\u001b[0m \u001b[0ms\u001b[0m\u001b[1;33m,\u001b[0m \u001b[0merr\u001b[0m\u001b[1;33m.\u001b[0m\u001b[0mvalue\u001b[0m\u001b[1;33m)\u001b[0m \u001b[1;32mfrom\u001b[0m \u001b[1;32mNone\u001b[0m\u001b[1;33m\u001b[0m\u001b[1;33m\u001b[0m\u001b[0m\n\u001b[0m\u001b[0;32m    356\u001b[0m         \u001b[1;32mreturn\u001b[0m \u001b[0mobj\u001b[0m\u001b[1;33m,\u001b[0m \u001b[0mend\u001b[0m\u001b[1;33m\u001b[0m\u001b[1;33m\u001b[0m\u001b[0m\n",
      "\u001b[1;31mJSONDecodeError\u001b[0m: Expecting value: line 1 column 1 (char 0)"
     ]
    }
   ],
   "source": [
    "import json\n",
    "obsah = json.loads(\"../2_zdrojova_data/A_uloziste/engine_overview_202105140001.json\")\n",
    "print(obsah)"
   ]
  },
  {
   "cell_type": "markdown",
   "id": "6ff4c068",
   "metadata": {},
   "source": [
    "## Tabulkové soubory (formáty xls, xlsx, odf, ...)\n",
    "\n",
    "[Apache OpenOffice Calc](http://www.openoffice.org/product/calc.html)\n",
    "\n",
    "[FreeOffice for Windows, Mac and Linux](https://www.freeoffice.com/en/)\n",
    "\n",
    "[Google Tabulky – zdarma vytvářejte a upravujte tabulky online.](https://www.google.co.uk/sheets/about/)\n",
    "\n",
    "[LibreOffice Calc - Based on OpenOffice](https://www.libreoffice.org/discover/calc/)\n",
    "\n",
    "[Microsoft Excel Spreadsheet Software](https://www.microsoft.com/en-us/microsoft-365/excel)\n",
    "\n",
    "[Polaris Office Free Office Suite](https://www.polarisoffice.com/en/office)\n",
    "\n",
    "[Zoho Sheet | Online Spreadsheet Software](https://www.zoho.com/sheet/?src=zoho-home&ireft=ohome)\n",
    "\n",
    "Prohlížení tabulkových dat pomocí programovacího jazyka python: "
   ]
  },
  {
   "cell_type": "code",
   "execution_count": 12,
   "id": "4ef84cde",
   "metadata": {},
   "outputs": [
    {
     "name": "stdout",
     "output_type": "stream",
     "text": [
      "*** XLS soubor nacteny pomoci pandas:\n",
      "        openness  security  open_source  eprice\n",
      "count       0.0      27.0      8.00000     0.0\n",
      "mean        NaN       5.0      0.25000     NaN\n",
      "std         NaN       0.0      0.46291     NaN\n",
      "min         NaN       5.0      0.00000     NaN\n",
      "25%         NaN       5.0      0.00000     NaN\n",
      "50%         NaN       5.0      0.00000     NaN\n",
      "75%         NaN       5.0      0.25000     NaN\n",
      "max         NaN       5.0      1.00000     NaN\n",
      "*** XLSX soubor nacteny pomoci openpyxl: <Worksheet \"engine_overview_202105140001\">\n",
      "None\n"
     ]
    }
   ],
   "source": [
    "import pandas as pd  # knihovna pandas umí mimo jiné číst xls soubory\n",
    "import openpyxl  # knihovna openpyxl umí číst xlsx soubory\n",
    "xls = pd.read_excel(\"../2_zdrojova_data/A_uloziste/engine_overview_202105140001.xls\")\n",
    "print(f'{\"*\"*3} XLS soubor nacteny pomoci pandas:\\n {xls.describe()}')\n",
    "xlsx = openpyxl.load_workbook(\"../2_zdrojova_data/A_uloziste/engine_overview_202105140001.xlsx\") \n",
    "sheet = xlsx.active  # read active sheet\n",
    "print(\"*\"*3, 'XLSX soubor nacteny pomoci openpyxl:', sheet)\n"
   ]
  },
  {
   "cell_type": "markdown",
   "id": "43fc30be",
   "metadata": {},
   "source": [
    "## Databáze\n",
    "\n",
    "### SQLite (formáty db, sqlite, ...) \n",
    "\n",
    "[DB Browser for SQLite (sqlitebrowser.org)](https://sqlitebrowser.org/)\n",
    "\n",
    "\n",
    "### Univerzální prohlížeče\n",
    "\n",
    "[Beekeeper](https://www.beekeeperstudio.io/) - Jednoduchý a bezpečný prohlížečIt is mature and secure enough (electron-based) and platform independent (you did not specify win/linux/mac) however it is missing visual interface for building queries.\n",
    "\n",
    "[Dbeaver](https://dbeaver.io/) - my personal favorite, very broad support of drivers (which can be easily updated), actively maintained and easy to use.\n",
    "\n",
    "[Execute query](http://executequery.org/index.php) - pretty much the same as squirrel, but not that often updated (recently got an update to jre 1.8).\n",
    "\n",
    "[Squirrel SQL](http://www.squirrelsql.org/) - small footprint, universal (both source and os), actively developed java tool. Visual interface is very basic and not intuitive (like in Access).\n",
    "\n",
    "Prohlížení velkého množství databází v jazyce python umožňuje knihovna SQLAlchemy, viz "
   ]
  },
  {
   "cell_type": "code",
   "execution_count": null,
   "id": "89531d03",
   "metadata": {},
   "outputs": [],
   "source": []
  }
 ],
 "metadata": {
  "jupytext": {
   "cell_metadata_filter": "-all",
   "main_language": "python",
   "notebook_metadata_filter": "-all"
  },
  "jupytext_formats": "ipynb,md",
  "kernelspec": {
   "display_name": "Python 3",
   "language": "python",
   "name": "python3"
  },
  "language_info": {
   "codemirror_mode": {
    "name": "ipython",
    "version": 3
   },
   "file_extension": ".py",
   "mimetype": "text/x-python",
   "name": "python",
   "nbconvert_exporter": "python",
   "pygments_lexer": "ipython3",
   "version": "3.9.1"
  }
 },
 "nbformat": 4,
 "nbformat_minor": 5
}
