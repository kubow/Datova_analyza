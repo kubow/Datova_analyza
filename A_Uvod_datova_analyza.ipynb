{
 "cells": [
  {
   "cell_type": "markdown",
   "id": "beb31cda",
   "metadata": {
    "lines_to_next_cell": 0
   },
   "source": [
    "# Úvod do datové analýzy\n",
    "\n",
    "Autor [Jakub Vajda](http://kubow.cz).\n",
    "\n",
    "## Příprava prostředí\n",
    "\n",
    "Doporučuje se pracovat v izolovaném prostředí, v ideálním případě vždy na kopii dat.\n",
    "\n",
    "Pro přípravu prostředí k tomuto kurzu můžete použít libovolný  [software](1_inicializace/B_software.md).\n",
    "\n",
    "Pokud si zvolíte aplikaci Python, pak se doporučuje využívat venv (virtuální prostředí).\n",
    "\n",
    "Všechny užívané zkratky naleznete v odkazu [pojmy](1_inicializace/C_pojmy.md).\n",
    "    \n",
    "## Technické předpoklady kurzu\n",
    "\n",
    "- Teoretické\n",
    "\t- Základy matematiky\n",
    "\t- Deskriptivní statistika\n",
    "- Praktické\n",
    "\t- Uživatelská práce na PC\n",
    "\t- Verzovací nástroj GIT\n",
    "\t- Prezentační platformy\n",
    "\t\t- Office (PowerPoint / OO, ..)\n",
    "\t\t- Web (reveal.js / jupyter)\n",
    "\n",
    "## Data kolem nás\n",
    "\n",
    "-   Statistické\n",
    "-   Finanční\n",
    "-   Vědecké\n",
    "-   Kulturní\n",
    "-   Geografické\n",
    "-   Transportní\n",
    "-   Přírodní\n",
    "-   Meteorologické"
   ]
  },
  {
   "cell_type": "markdown",
   "id": "0fe93b68",
   "metadata": {},
   "source": [
    "## Přehled kurzu\n",
    "\n",
    "A) Inicializace projektu \n",
    "- příprava prezentačního prostředí\n",
    "- instalace dalšího software\n",
    "- příprava myšlenkového rozpoložení \n",
    "\n",
    "B) Popis zdrojových dat\n",
    "- základní rozdělení úložišť\n",
    "- popisy jednotlivých typů a jejich rozdíly\n",
    "    \n",
    "C) Analýza dat\n",
    "- základní typy analýz\n",
    "- pokročilé analýzy\n",
    "\n"
   ]
  }
 ],
 "metadata": {
  "jupytext": {
   "cell_metadata_filter": "-all",
   "main_language": "python",
   "notebook_metadata_filter": "-all"
  },
  "jupytext_formats": "ipynb,md",
  "kernelspec": {
   "display_name": "Python 3",
   "language": "python",
   "name": "python3"
  },
  "language_info": {
   "codemirror_mode": {
    "name": "ipython",
    "version": 3
   },
   "file_extension": ".py",
   "mimetype": "text/x-python",
   "name": "python",
   "nbconvert_exporter": "python",
   "pygments_lexer": "ipython3",
   "version": "3.9.1"
  }
 },
 "nbformat": 4,
 "nbformat_minor": 5
}
