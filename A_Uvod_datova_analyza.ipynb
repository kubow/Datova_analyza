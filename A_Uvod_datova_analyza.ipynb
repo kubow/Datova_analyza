{
 "cells": [
  {
   "cell_type": "markdown",
   "id": "beb31cda",
   "metadata": {
    "lines_to_next_cell": 0
   },
   "source": [
    "# Úvod do datové analýzy\n",
    "\n",
    "Autor [Jakub Vajda](http://kubow.cz).\n",
    "\n",
    "Kurz \"úvod do datové analýzy\" se snaží přiblížit problematiku zpracování datových souborů pro úplné začátečníky. Jsou zde uvedeny cesty, jak datové soubory načíst v různých prostředích, jak jejich obsah analyzovat případně zobrazit.\n",
    "\n",
    "## Technické předpoklady kurzu\n",
    "\n",
    "- Teoretické\n",
    "\t- Základy matematiky\n",
    "\t- Základy statistiky\n",
    "- Praktické\n",
    "\t- Uživatelská práce na PC\n",
    "\t- Prezentační platformy\n",
    "\t\t- Office (PowerPoint, OpenOffice, LibreOffice, ...)\n",
    "        - Markdown textový záznam\n",
    "\t\t- Web (jupyter)\n",
    "\n",
    "## Příprava prostředí\n",
    "\n",
    "Doporučuje se pracovat v izolovaném prostředí, v ideálním případě vždy na kopii dat. Veškeré nastavení prezentačního prostředí, jejichž výčet je uveden výše, je uveden v sekci [inicializace/prezentace](1_inicializace/A_prezentace.md).\n",
    "\n",
    "Pro přípravu výpočetního prostředí k tomuto kurzu můžete použít libovolný nástroj uvedený v sekci [inicializace/software](1_inicializace/B_software.md).\n",
    "\n",
    "Odkaz na všechny užité zkratky naleznete v sekci [inicializace/mindset](1_inicializace/C_mindset.md), vlastní seznam je pak uložen ve formě datového souboru v sekci [zdrojova_data/uloziste](2_zdrojova_data/B_uloziste).\n"
   ]
  },
  {
   "cell_type": "markdown",
   "id": "0fe93b68",
   "metadata": {},
   "source": [
    "## Přehled kurzu\n",
    "\n",
    "A) Inicializace projektu \n",
    "- příprava prezentačního prostředí\n",
    "- instalace software pro práci s daty\n",
    "- příprava myšlenkového rozpoložení \n",
    "\n",
    "B) Popis zdrojových dat\n",
    "- základní rozdělení úložišť\n",
    "- popisy jednotlivých typůd\n",
    "    \n",
    "C) Analýza dat\n",
    "- dotazování na data\n",
    "- zobrazování dat\n",
    "- analýzy dat\n",
    "\n"
   ]
  },
  {
   "cell_type": "code",
   "execution_count": null,
   "id": "c1bb57bb",
   "metadata": {},
   "outputs": [],
   "source": []
  }
 ],
 "metadata": {
  "jupytext": {
   "cell_metadata_filter": "-all",
   "main_language": "python",
   "notebook_metadata_filter": "-all"
  },
  "jupytext_formats": "ipynb,md",
  "kernelspec": {
   "display_name": "Python 3",
   "language": "python",
   "name": "python3"
  },
  "language_info": {
   "codemirror_mode": {
    "name": "ipython",
    "version": 3
   },
   "file_extension": ".py",
   "mimetype": "text/x-python",
   "name": "python",
   "nbconvert_exporter": "python",
   "pygments_lexer": "ipython3",
   "version": "3.9.1"
  }
 },
 "nbformat": 4,
 "nbformat_minor": 5
}
