{
 "cells": [
  {
   "cell_type": "markdown",
   "id": "24508cd1",
   "metadata": {},
   "source": [
    "## Datový model\n",
    "\n",
    "Nejprve se blíže podíváme na strukturu dat a jejich možnosti propojení. Uvedenou problematikou se do detailu zabývá datové modelování<sup>2</sup>. Pro účely kurzu se spokojíme se zjednodušeným přístupem\n",
    "ke vztahům mezi jednotlivými záznamy v souborech. Na základní úrovni je potřeba definovat následující pojmy:\n",
    "\n",
    "- **tabulka (table)** - odpovídá jednomu pozorovanému datovému souboru, zde rozlišujeme:\n",
    "    - **pole (field)** - sloupec v tabulce\n",
    "    - **záhlaví (header)** - seřazený seznam názvů polí tabulky\n",
    "    - **záznam (row)** - seřazený seznam hodnot polí pro konkrétní řádek\n",
    "- **datový typ (data type)** - definice, jakých může pole nabývat hodnot, obecně:\n",
    "    - textový řetězec\n",
    "    - numerická reprezentace\n",
    "    - boolean (logická hodnota ano/ne)\n",
    "    - BLOB/CLOB (pole nesoucí binární typ informací)\n",
    "- **vazba (relation)** - druh vztahu mezi dvěma tabulkami\n",
    "    - 1:1 (každý záznam v tabulce T1 odpovídá záznamu v tabulce T2)\n",
    "    - 1:N (jeden záznam v tabulce T1 má N odpovídajících záznamů v tabulce T2)\n",
    "    - M:N (existuje víc záznamů z tabulky T1, které odpovídají více záznamm z tabulky T2)"
   ]
  }
 ],
 "metadata": {
  "kernelspec": {
   "display_name": "Python 3",
   "language": "python",
   "name": "python3"
  },
  "language_info": {
   "codemirror_mode": {
    "name": "ipython",
    "version": 3
   },
   "file_extension": ".py",
   "mimetype": "text/x-python",
   "name": "python",
   "nbconvert_exporter": "python",
   "pygments_lexer": "ipython3",
   "version": "3.9.1"
  }
 },
 "nbformat": 4,
 "nbformat_minor": 5
}
