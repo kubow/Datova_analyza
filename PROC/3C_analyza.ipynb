{
 "cells": [
  {
   "cell_type": "markdown",
   "id": "d191b879",
   "metadata": {},
   "source": [
    "# Analýza dat\n",
    "\n",
    "[←](../Readme.md)\n",
    "\n",
    "Jedná se o oblast aktivit, které slouží k využití zpracovaných dat s cílem odhalit související informace a podpořit proces rozhodování. \n",
    "\n",
    "\n",
    "\n",
    "V posledním bode analýzy dat...\n",
    "\n",
    "![analyza dat](../obr/stupne_datove_analyzy.svg)\n",
    "\n",
    "\n",
    "V této části\n",
    "\n",
    "https://en.wikipedia.org/wiki/Data_analysis\n",
    "\n",
    "\n",
    " ## Grafické zobrazení dat\n",
    " \n",
    " -   Kvantitativní\n",
    "\n",
    "\t-   Koláčový graf\n",
    "\t-   Histogram\n",
    "\t-   Bodový diagram\n",
    "\n",
    "-   Kvantitativní\n",
    "\n",
    "\t-   Sloupcový graf\n",
    "\t-   Paretův graf\n",
    "\t-   Teplotní mapa\n",
    " "
   ]
  },
  {
   "cell_type": "markdown",
   "id": "7752b59b",
   "metadata": {},
   "source": [
    "--------\n",
    "Poznámky:\n",
    "\n",
    "<sup>1</sup> - téma integrace dat vydá na separátní informační balík, nyní viz [wikipedia](https://en.wikipedia.org/wiki/Data_integration)"
   ]
  }
 ],
 "metadata": {
  "jupytext": {
   "cell_metadata_filter": "-all",
   "main_language": "python",
   "notebook_metadata_filter": "-all"
  },
  "jupytext_formats": "ipynb,md",
  "kernelspec": {
   "display_name": "Python 3",
   "language": "python",
   "name": "python3"
  },
  "language_info": {
   "codemirror_mode": {
    "name": "ipython",
    "version": 3
   },
   "file_extension": ".py",
   "mimetype": "text/x-python",
   "name": "python",
   "nbconvert_exporter": "python",
   "pygments_lexer": "ipython3",
   "version": "3.9.1"
  }
 },
 "nbformat": 4,
 "nbformat_minor": 5
}
