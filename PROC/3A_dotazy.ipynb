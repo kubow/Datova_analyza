{
 "cells": [
  {
   "cell_type": "markdown",
   "id": "d191b879",
   "metadata": {},
   "source": [
    "# Dotazování na data\n",
    "\n",
    "[←](../Readme.md)\n",
    "\n",
    "Prvním krokem datové analýzy obecně je shromáždění relevantních informací (v tomto případě datových souborů) na jendno místo. V této kapitole jsou popsány způsoby získávání dat, které užívají pojmy předchozí kapitoly ([rozdeleni_dat_zakladni](../DATA/2A_rozdeleni_zakladni.md)).\n",
    "\n",
    "Pro jednodušší datové soubory uložené v základních formátech (TXT, CSV, XLS, ...) můžeme k jejich prohlížení a úpravě použít programy určené pro práci s těmito formáty (uvedeno v sekci [inicializace/software](../INIT/1B_software.md)). \n",
    "\n",
    "U složitějších datových setů (více než 1 tabulka/zdroj) používáme k dotazování jednu z následujících metod<sup>1</sup>:\n",
    "\n",
    "- pomocí SQL (pro strukturovaná data) [3ASQL](3A_dotazy_SQL.md) \n",
    "- pomocí jazyků XPath/XQuery (pro data typu XML)\n",
    "- pomocí jazyků JAQL/JSONiq (pro data typu JSON) [3APRG](3A_dotazy_prg.md) \n",
    "- pomocí programovacích jazyků (Python, R, ...) [3APRG](3A_dotazy_prg.md) \n",
    "- pomocí analytických nástrojů (Microsoft Power BI, Metabase, ...)\n",
    "- pomocí dalších jazyků sloužící k získání specifických typů dat (GraphQL, Cypher, ...)\n",
    "\n",
    "Při spojování více datových setů se dostáváme do situací, kdy musíme brát v úvahu různé vtahy mezi spojovanými daty. Za tím účelem vznikl soubor metod, který by šel zjednodušeně popsat jako integrace dat. \n",
    "\n",
    "V prvé řadě musíme brát v úvahu vztahy mezi jednotlivými záznamy v souborech. Na základní úrovni je potřeba definovat, jaká část dat je v popředí zájmu (definice požadavků na data) a jaké operace chceme nad daty provádět.\n",
    "\n",
    "- rozdíl\n",
    "- průnik\n",
    "- sjednocení\n",
    "\n",
    "V dalším kroku pak přistupujeme k vlastníu sběru dat, tedy popisu jednotlivých zdrojů."
   ]
  },
  {
   "cell_type": "markdown",
   "id": "d64cc4e1",
   "metadata": {},
   "source": [
    "--------\n",
    "Poznámky:\n",
    "\n",
    "<sup>1</sup> - kompletnější výčet jazyků na dotazování se lze dočíst na [wikipedii](https://en.wikipedia.org/wiki/Query_language).\n",
    "\n",
    "<sup>2</sup> -"
   ]
  }
 ],
 "metadata": {
  "jupytext": {
   "cell_metadata_filter": "-all",
   "main_language": "python",
   "notebook_metadata_filter": "-all"
  },
  "jupytext_formats": "ipynb,md",
  "kernelspec": {
   "display_name": "Python 3",
   "language": "python",
   "name": "python3"
  },
  "language_info": {
   "codemirror_mode": {
    "name": "ipython",
    "version": 3
   },
   "file_extension": ".py",
   "mimetype": "text/x-python",
   "name": "python",
   "nbconvert_exporter": "python",
   "pygments_lexer": "ipython3",
   "version": "3.9.1"
  }
 },
 "nbformat": 4,
 "nbformat_minor": 5
}
