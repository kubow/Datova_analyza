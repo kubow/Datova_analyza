{
 "cells": [
  {
   "cell_type": "markdown",
   "id": "d191b879",
   "metadata": {},
   "source": [
    "## Dotazování na data\n",
    "\n",
    "[←](../Readme.md)\n",
    "\n",
    "Pro jednodušší soubory dat uložené v základních formátech (TXT, CSV, XLS, ... viz sekce [rozdělení dat](../DATA/2A_rozdeleni_zakladni.md)) můžeme k jejich prohlížení a úpravě použít programy určené pro práci s těmito formáty (uvedeno v sekci [software](../INIT/1B_software.md)). \n",
    "\n",
    "U složitějších datových setů (více než 1 tabulka/zdroj) používáme k dotazování jednu z následujících metod<sup>1</sup>:\n",
    "\n",
    "- pomocí SQL (pro strukturovaná data) [3ASQL](3A_dotazy_SQL.md) \n",
    "- pomocí jazyků XPath/XQuery (pro data typu [XML](3A_dotazy_xml.md)) \n",
    "- pomocí jazyků JAQL/JSONiq (pro data typu [JSON](3A_dotazy_json.md)) \n",
    "- pomocí programovacích jazyků ([Python](3A_dotazy_python.md), [R](3A_dotazy_r.md), ...) \n",
    "- pomocí analytických nástrojů (Microsoft Power BI, Metabase, ...)\n",
    "- pomocí dalších jazyků sloužící k získání specifických typů dat (GraphQL, Cypher, ...)\n",
    "\n",
    "Nejprve se blíže podíváme na strukturu dat a jejich možnosti propojení. Uvedenou problematikou se do detailu zabývá datové modelování<sup>2</sup>. Pro účely kurzu se spokojíme se zjednodušeným přístupem\n",
    "ke vztahům mezi jednotlivými záznamy v souborech. Na základní úrovni je potřeba definovat následující pojmy:\n",
    "\n",
    "- **tabulka (table)** - odpovídá jednomu pozorovanému datovému souboru, zde rozlišujeme:\n",
    "    - **pole (field)** - sloupec v tabulce\n",
    "    - **záhlaví (header)** - seřazený seznam názvů polí tabulky\n",
    "    - **záznam (row)** - seřazený seznam hodnot polí pro konkrétní řádek\n",
    "- **datový typ (data type)** - definice, jakých může pole nabývat hodnot, obecně:\n",
    "    - textový řetězec\n",
    "    - numerická reprezentace\n",
    "    - boolean (logická hodnota ano/ne)\n",
    "    - BLOB/CLOB (pole nesoucí binární typ informací)\n",
    "- **vazba (relation)** - druh vztahu mezi dvěma tabulkami\n",
    "    - 1:1 (každý záznam v tabulce T1 odpovídá záznamu v tabulce T2)\n",
    "    - 1:N (jeden záznam v tabulce T1 má N odpovídajících záznamů v tabulce T2)\n",
    "    - M:N (existuje víc záznamů z tabulky T1, které odpovídají více záznamm z tabulky T2)\n",
    "\n",
    "\n",
    "Při spojování více datových souborů se dostáváme do situací, kdy je třeba provádět více krokové přípravy, ty jsou uvedeny v následující sekci [aktivity nad daty](3B_aktivity.md).  \n",
    "\n"
   ]
  },
  {
   "cell_type": "markdown",
   "id": "d64cc4e1",
   "metadata": {},
   "source": [
    "--------\n",
    "Poznámky:\n",
    "\n",
    "<sup>1</sup> - kompletnější výčet jazyků na dotazování se lze dočíst na [wikipedii](https://en.wikipedia.org/wiki/Query_language) pod heslem \"Query Language\".\n",
    "\n",
    "<sup>2</sup> - datové modelování detailněji popsáno na [wikipedii](https://en.wikipedia.org/wiki/Data_modeling) pod heslem \"Data Modelling\"."
   ]
  }
 ],
 "metadata": {
  "jupytext": {
   "cell_metadata_filter": "-all",
   "main_language": "python",
   "notebook_metadata_filter": "-all"
  },
  "jupytext_formats": "ipynb,md",
  "kernelspec": {
   "display_name": "Python 3",
   "language": "python",
   "name": "python3"
  },
  "language_info": {
   "codemirror_mode": {
    "name": "ipython",
    "version": 3
   },
   "file_extension": ".py",
   "mimetype": "text/x-python",
   "name": "python",
   "nbconvert_exporter": "python",
   "pygments_lexer": "ipython3",
   "version": "3.9.1"
  }
 },
 "nbformat": 4,
 "nbformat_minor": 5
}
