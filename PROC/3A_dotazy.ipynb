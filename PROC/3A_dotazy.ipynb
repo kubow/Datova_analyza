{
 "cells": [
  {
   "cell_type": "markdown",
   "id": "d191b879",
   "metadata": {},
   "source": [
    "## Získávání dat\n",
    "\n",
    "[←](../Readme.md)\n",
    "\n",
    "Obecně si můžeme celý proces práce s daty představit zhruba následovně: \n",
    "\n",
    "![zpracovani dat](../obr/data_informace_znalosti.svg)\n",
    "\n",
    "### Největší výzvy v oblasti získávání dat\n",
    "\n",
    "| Výzva    | Co řeší  | Příklad\n",
    "|---| --- | ---\n",
    "| Zpracování obrovských množství dat      | metody sběru dat   | Zvolíme programovací jazyk nebo analytický nástroj?\n",
    "| Spojování různorodých zdrojů    | principy datové integrace[^dta_int] | Budeme držet data v oddělené tabulce nebo připojíme k stávajícím záznamům?\n",
    "| Udržení konzistentního prostředí | umožněno díky datovému modelování[^dta_model] pomocí standartizované sady znaků a symbolů | Známe strukturu nového zdroje? Jak jej napojíme do systému?\n",
    "| Optimální zpracování dat na informace | nasazení datových skladů | Jak často agregovat data? Ukládat s časovýma značkama?\n",
    "| Získání odpovědí na naše otázky |   |\n",
    "\n",
    "\n",
    "### Metody sběru dat\n",
    "\n",
    "Při získávání dat používáme jeden z následujících postupů[^qry_lang]:\n",
    "\n",
    "- pomocí [SQL](3A_dotazy_SQL.md) (pro strukturovaná data) \n",
    "- pomocí jazyků XPath/XQuery (pro data typu [XML](3A_dotazy_xml.md)) \n",
    "- pomocí jazyků JAQL/JSONiq (pro data typu [JSON](3A_dotazy_json.md)) \n",
    "- pomocí programovacích jazyků ([Python](3A_dotazy_python.md), [R](3A_dotazy_r.md), ...) \n",
    "- pomocí analytických nástrojů (Microsoft Power BI, Metabase, ...)\n",
    "- pomocí dalších jazyků sloužící k získání specifických typů dat (GraphQL, Cypher, ...)\n",
    "\n",
    "Nejprve se blíže podíváme na strukturu dat a jejich možnosti propojení. Uvedenou problematikou se do detailu zabývá datové modelování<sup>2</sup>. Pro účely kurzu se spokojíme se zjednodušeným přístupem\n",
    "ke vztahům mezi jednotlivými záznamy v souborech. Na základní úrovni je potřeba definovat následující pojmy:\n",
    "\n",
    "- **tabulka (table)** - odpovídá jednomu pozorovanému datovému souboru, zde rozlišujeme:\n",
    "    - **pole (field)** - sloupec v tabulce\n",
    "    - **záhlaví (header)** - seřazený seznam názvů polí tabulky\n",
    "    - **záznam (row)** - seřazený seznam hodnot polí pro konkrétní řádek\n",
    "- **datový typ (data type)** - definice, jakých může pole nabývat hodnot, obecně:\n",
    "    - textový řetězec\n",
    "    - numerická reprezentace\n",
    "    - boolean (logická hodnota ano/ne)\n",
    "    - BLOB/CLOB (pole nesoucí binární typ informací)\n",
    "- **vazba (relation)** - druh vztahu mezi dvěma tabulkami\n",
    "    - 1:1 (každý záznam v tabulce T1 odpovídá záznamu v tabulce T2)\n",
    "    - 1:N (jeden záznam v tabulce T1 má N odpovídajících záznamů v tabulce T2)\n",
    "    - M:N (existuje víc záznamů z tabulky T1, které odpovídají více záznamm z tabulky T2)\n",
    "\n",
    "\n",
    "Při spojování více datových souborů se dostáváme do situací, kdy je třeba provádět více krokové přípravy, ty jsou uvedeny v následující sekci [aktivity nad daty](3B_aktivity.md).  \n",
    "\n"
   ]
  },
  {
   "cell_type": "markdown",
   "id": "d64cc4e1",
   "metadata": {},
   "source": [
    "--------\n",
    "Poznámky:\n",
    "\n",
    "[^dta_model]: anglicky Data Modelling, zkratka DM ([detaily](https://en.wikipedia.org/wiki/Data_modeling))\n",
    "\n",
    "[^dta_int]: anglicky Data Integration, zkratka DI ([detaily](https://en.wikipedia.org/wiki/Data_integration))\n",
    "\n",
    "[^qry_lang]: kompletnější výčet jazyků na dotazování se lze dočíst na [wikipedii](https://en.wikipedia.org/wiki/Query_language) pod heslem \"Query Language\".\n",
    "\n"
   ]
  }
 ],
 "metadata": {
  "jupytext": {
   "cell_metadata_filter": "-all",
   "main_language": "python",
   "notebook_metadata_filter": "-all"
  },
  "jupytext_formats": "ipynb,md",
  "kernelspec": {
   "display_name": "Python 3",
   "language": "python",
   "name": "python3"
  },
  "language_info": {
   "codemirror_mode": {
    "name": "ipython",
    "version": 3
   },
   "file_extension": ".py",
   "mimetype": "text/x-python",
   "name": "python",
   "nbconvert_exporter": "python",
   "pygments_lexer": "ipython3",
   "version": "3.9.1"
  }
 },
 "nbformat": 4,
 "nbformat_minor": 5
}
