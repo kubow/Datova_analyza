{
  "cells": [
    {
      "cell_type": "markdown",
      "id": "0eda3900",
      "metadata": {},
      "source": [
        "## Popis dat\n",
        "\n",
        "[←](3B_aktivity.md)  [→ další krok](../3B_aktivity_proces.md)\n",
        "\n",
        "Při charakteristice dat se soustředíme na následující sadu činností:\n",
        "\n",
        "- Základní popis dat\n",
        "  - Průměr (mean)\n",
        "  - Střední hodnota a odchylky\n",
        "- Extrémy a anomálie\n",
        "- Klasifikicace[^dta_cls] (distribuční křivka hodnot)\n",
        "\n",
        "Základní popis dat v prgramovacím jazyce python\n",
        "https://medium.com/@kasiarachuta/basic-statistics-in-pandas-dataframe-594208074f85\n",
        "https://github.com/kasiarachuta/Blog/blob/master/Basic%20statistics%20on%20pandas%20DataFrame.ipynb\n",
        "\n",
        "\n",
        "### Základní popis dat\n",
        "\n",
        "Na prvním příkladu si ukážeme jakým zpsůobem mohou být záznamy validovány a identifikována jejich přesnost. "
      ]
    },
    {
      "cell_type": "code",
      "execution_count": 40,
      "id": "e23ad0b3",
      "metadata": {
        "lines_to_next_cell": 2
      },
      "outputs": [
        {
          "name": "stdout",
          "output_type": "stream",
          "text": [
            "První dva řádky datovéhou souboru:\n"
          ]
        },
        {
          "data": {
            "text/html": [
              "<div>\n",
              "<style scoped>\n",
              "    .dataframe tbody tr th:only-of-type {\n",
              "        vertical-align: middle;\n",
              "    }\n",
              "\n",
              "    .dataframe tbody tr th {\n",
              "        vertical-align: top;\n",
              "    }\n",
              "\n",
              "    .dataframe thead th {\n",
              "        text-align: right;\n",
              "    }\n",
              "</style>\n",
              "<table border=\"1\" class=\"dataframe\">\n",
              "  <thead>\n",
              "    <tr style=\"text-align: right;\">\n",
              "      <th></th>\n",
              "      <th>Number</th>\n",
              "      <th>Gender</th>\n",
              "      <th>NameSet</th>\n",
              "      <th>Title</th>\n",
              "      <th>GivenName</th>\n",
              "      <th>MiddleInitial</th>\n",
              "      <th>Surname</th>\n",
              "      <th>StreetAddress</th>\n",
              "      <th>City</th>\n",
              "      <th>State</th>\n",
              "      <th>...</th>\n",
              "      <th>Vehicle</th>\n",
              "      <th>Domain</th>\n",
              "      <th>BloodType</th>\n",
              "      <th>Pounds</th>\n",
              "      <th>Kilograms</th>\n",
              "      <th>FeetInches</th>\n",
              "      <th>Centimeters</th>\n",
              "      <th>GUID</th>\n",
              "      <th>Latitude</th>\n",
              "      <th>Longitude</th>\n",
              "    </tr>\n",
              "  </thead>\n",
              "  <tbody>\n",
              "    <tr>\n",
              "      <th>0</th>\n",
              "      <td>1</td>\n",
              "      <td>female</td>\n",
              "      <td>Czech</td>\n",
              "      <td>Ms.</td>\n",
              "      <td>Nikola</td>\n",
              "      <td>J</td>\n",
              "      <td>Pátková</td>\n",
              "      <td>Rvačov 549</td>\n",
              "      <td>Roudnice nad Labem</td>\n",
              "      <td>US</td>\n",
              "      <td>...</td>\n",
              "      <td>2000 BMW 320</td>\n",
              "      <td>ChemicalPaper.cz</td>\n",
              "      <td>O+</td>\n",
              "      <td>152.5</td>\n",
              "      <td>69.3</td>\n",
              "      <td>5' 1\"</td>\n",
              "      <td>155</td>\n",
              "      <td>51f92586-6f42-4ca7-90eb-3a71099457b7</td>\n",
              "      <td>50.360150</td>\n",
              "      <td>14.205878</td>\n",
              "    </tr>\n",
              "    <tr>\n",
              "      <th>1</th>\n",
              "      <td>2</td>\n",
              "      <td>female</td>\n",
              "      <td>Czech</td>\n",
              "      <td>Mrs.</td>\n",
              "      <td>Jaroslava</td>\n",
              "      <td>F</td>\n",
              "      <td>Tomková</td>\n",
              "      <td>Nová 838</td>\n",
              "      <td>Strakonice 1</td>\n",
              "      <td>JC</td>\n",
              "      <td>...</td>\n",
              "      <td>2008 Holden Barina</td>\n",
              "      <td>HolisticAid.cz</td>\n",
              "      <td>O+</td>\n",
              "      <td>112.9</td>\n",
              "      <td>51.3</td>\n",
              "      <td>5' 8\"</td>\n",
              "      <td>172</td>\n",
              "      <td>b08ddb9c-1e22-4ac3-81e1-d7baca9c76f6</td>\n",
              "      <td>49.333683</td>\n",
              "      <td>13.950068</td>\n",
              "    </tr>\n",
              "  </tbody>\n",
              "</table>\n",
              "<p>2 rows × 45 columns</p>\n",
              "</div>"
            ],
            "text/plain": [
              "   Number  Gender NameSet Title  GivenName MiddleInitial  Surname  \\\n",
              "0       1  female   Czech   Ms.     Nikola             J  Pátková   \n",
              "1       2  female   Czech  Mrs.  Jaroslava             F  Tomková   \n",
              "\n",
              "  StreetAddress                City State  ...             Vehicle  \\\n",
              "0    Rvačov 549  Roudnice nad Labem    US  ...        2000 BMW 320   \n",
              "1      Nová 838        Strakonice 1    JC  ...  2008 Holden Barina   \n",
              "\n",
              "             Domain BloodType Pounds Kilograms FeetInches Centimeters  \\\n",
              "0  ChemicalPaper.cz        O+  152.5      69.3      5' 1\"         155   \n",
              "1    HolisticAid.cz        O+  112.9      51.3      5' 8\"         172   \n",
              "\n",
              "                                   GUID   Latitude  Longitude  \n",
              "0  51f92586-6f42-4ca7-90eb-3a71099457b7  50.360150  14.205878  \n",
              "1  b08ddb9c-1e22-4ac3-81e1-d7baca9c76f6  49.333683  13.950068  \n",
              "\n",
              "[2 rows x 45 columns]"
            ]
          },
          "execution_count": 40,
          "metadata": {},
          "output_type": "execute_result"
        }
      ],
      "source": [
        "import pandas as pd\n",
        "\n",
        "print(\"První dva řádky datovéhou souboru:\")\n",
        "df = pd.read_csv('../DATA/Fake/FakeNameGenerator.com_93dd768d.zip', compression='zip')\n",
        "df.head(2)"
      ]
    },
    {
      "cell_type": "markdown",
      "id": "e886ce64",
      "metadata": {},
      "source": [
        "Přehled statistik nad datovým polem číselného typu.\n"
      ]
    },
    {
      "cell_type": "code",
      "execution_count": 55,
      "id": "b9ae12f1",
      "metadata": {},
      "outputs": [
        {
          "name": "stdout",
          "output_type": "stream",
          "text": [
            "Rozsah souboru (počet prvků v souboru): 3000 záznamů\n",
            "Aritmetický průměr (mean) výšek respondentů): 169.37766666666667 cm\n",
            "Rozpětí výšek respondentů: (od 150 cm do 190 cm)\n",
            "Střední hodnota (median) výšek respondentů: 169.0 cm\n",
            "Nejvyšší četnost (mode) výšek respondentů: 170 cm\n",
            "Rozptyl (variance) výšek respondentů): 92.89399922196287 cm\n",
            "Standartní odchylka výšek responentů: 9.63815330973537 cm2\n"
          ]
        }
      ],
      "source": [
        "pole = 'Centimeters'  # zde si můžeme zvolit libovolné pole\n",
        "\n",
        "print(f\"Rozsah souboru (počet prvků v souboru): {df[pole].count()} záznamů\")\n",
        "print(f\"Aritmetický průměr (mean) výšek respondentů): {df[pole].mean()} cm\")\n",
        "print(f\"Rozpětí výšek respondentů: (od {df[pole].min()} cm do {df[pole].max()} cm)\")\n",
        "print(f\"Střední hodnota (median) výšek respondentů: {df[pole].median()} cm\")\n",
        "print(f\"Nejvyšší četnost (mode) výšek respondentů: {df[pole].mode()[0]} cm\")\n",
        "print(f\"Rozptyl (variance) výšek respondentů): {df[pole].var()} cm\")\n",
        "print(f\"Standartní odchylka výšek responentů: {df[pole].std()} cm2\")"
      ]
    },
    {
      "cell_type": "markdown",
      "id": "f0e142b1",
      "metadata": {},
      "source": [
        "### Extrémy a anomálie\n",
        "\n",
        "tady bude nějaký popis\n",
        "\n"
      ]
    },
    {
      "cell_type": "code",
      "execution_count": null,
      "id": "e2eb65d1",
      "metadata": {},
      "outputs": [],
      "source": []
    },
    {
      "cell_type": "markdown",
      "id": "399493f2",
      "metadata": {},
      "source": [
        "---\n",
        "\n",
        "Poznámky:\n",
        "\n",
        "[^dta_cls]: anglicky Data Classification, více viz [https://en.wikipedia.org/wiki/Data_classification_(business_intelligence)](https://en.wikipedia.org/wiki/Data_classification_(business_intelligence))\n",
        "\n"
      ]
    }
  ],
  "metadata": {
    "jupytext": {
      "cell_metadata_filter": "-all",
      "main_language": "python",
      "notebook_metadata_filter": "-all"
    },
    "jupytext_formats": "ipynb,md",
    "kernelspec": {
      "display_name": "Python 3",
      "language": "python",
      "name": "python3"
    },
    "language_info": {
      "codemirror_mode": {
        "name": "ipython",
        "version": 3
      },
      "file_extension": ".py",
      "mimetype": "text/x-python",
      "name": "python",
      "nbconvert_exporter": "python",
      "pygments_lexer": "ipython3",
      "version": "3.9.1"
    }
  },
  "nbformat": 4,
  "nbformat_minor": 5
}
