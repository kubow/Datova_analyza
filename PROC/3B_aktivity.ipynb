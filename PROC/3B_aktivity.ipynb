{
 "cells": [
  {
   "cell_type": "markdown",
   "id": "d191b879",
   "metadata": {},
   "source": [
    "## Aktivity nad daty\n",
    "\n",
    "[←](../Readme)\n",
    "\n",
    "Pokud máme data shromážděny na místě (detaily v předchozí kapitole [3A](3A_dotazy)), soustřeďujeme se na následující oblasti ([zatím jen odkaz jako zdroj](https://en.wikipedia.org/wiki/Data_analysis)):\n",
    "\n",
    "- Příprava dat[^dta_prp]\n",
    "    - [Čištění a validace](3B_aktivity_validace)\n",
    "- Základní charakteristika dat (viz kapitola 1B - podsekce statistika)\n",
    "    - Průměr, střední hodnoty a odchylky\n",
    "    - Extrémy a anomálie\n",
    "    - Distribuční křivka hodnot\n",
    "- Výpočet derivovaných hodnot \n",
    "    - klasifikace\n",
    "    - kalkulace\n",
    "- Změna pohledu\n",
    "    - Filtrace a řazení\n",
    "    - Sumarizace\n",
    "\n",
    "Tady musíme popsat, jak funguje rozdělení rolí pro práci s daty[^dta_gov]:."
   ]
  },
  {
   "cell_type": "markdown",
   "id": "6c0982de",
   "metadata": {},
   "source": [
    "Poznámky:\n",
    "\n",
    "[^dta_prp]: anglicky Data Pre-Processing ([detaily](https://en.wikipedia.org/wiki/Data_pre-processing))\n"
   ]
  }
 ],
 "metadata": {
  "jupytext": {
   "cell_metadata_filter": "-all",
   "main_language": "python",
   "notebook_metadata_filter": "-all"
  },
  "jupytext_formats": "ipynb,md",
  "kernelspec": {
   "display_name": "Python 3",
   "language": "python",
   "name": "python3"
  },
  "language_info": {
   "codemirror_mode": {
    "name": "ipython",
    "version": 3
   },
   "file_extension": ".py",
   "mimetype": "text/x-python",
   "name": "python",
   "nbconvert_exporter": "python",
   "pygments_lexer": "ipython3",
   "version": "3.9.1"
  }
 },
 "nbformat": 4,
 "nbformat_minor": 5
}
