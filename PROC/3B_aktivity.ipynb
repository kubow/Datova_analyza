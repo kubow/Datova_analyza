{
 "cells": [
  {
   "cell_type": "markdown",
   "id": "d191b879",
   "metadata": {},
   "source": [
    "## Aktivity nad daty\n",
    "\n",
    "[←](../Readme) [→ další krok](../3C_analyza.md)\n",
    "\n",
    "Typy aktivit se striktně dělí dle uživatelských skupin daných principem řízení dat[^dta_gov]:\n",
    "- role obsluhy dat[^dta_stw] zodpovědná za obsah, správný kontext a podniková pravidla\n",
    "- role správce dat[^dta_cus] zodpovědná za nahrávání dat, jejich bezpečné uložení a \n",
    "- role vlastníka dat[^dta_own]\n",
    "\n",
    "\n",
    "(detaily v předchozí kapitole [3A](3A_dotazy)), soustřeďujeme se na práce, které umožňují provádět již finální analýzu ([zatím jen odkaz jako zdroj](https://en.wikipedia.org/wiki/Data_analysis)):\n",
    "\n",
    "A tady je zdroj: https://en.wikipedia.org/wiki/Data_processing\n",
    "\n",
    "- Příprava dat[^dta_prp]\n",
    "    - [Čištění dat](3B_aktivity_cisteni)\n",
    "    - Náhledy na data\n",
    "- [Základní popis dat](3B_aktivity_popis)\n",
    "    - Základní statistické definice viz. kapitola 1B - podsekce statistika\n",
    "- Výpočet derivovaných hodnot \n",
    "    - klasifikace\n",
    "    - kalkulace\n",
    "- Změna pohledu\n",
    "    - Filtrace \n",
    "    - Řazení\n",
    "    - Sumarizace\n",
    "    - Výběr neduplicitních záznamů\n",
    "\n",
    "Tady musíme popsat, jak funguje \n"
   ]
  },
  {
   "cell_type": "markdown",
   "id": "6c0982de",
   "metadata": {},
   "source": [
    "Poznámky:\n",
    "\n",
    "[^dta_prp]: anglicky Data Pre-Processing, detaily na [https://en.wikipedia.org/wiki/Data_pre-processing](https://en.wikipedia.org/wiki/Data_pre-processing), [https://www.techopedia.com/definition/14650/data-preprocessing](https://www.techopedia.com/definition/14650/data-preprocessing), \n",
    "\n",
    "[^dta_gov]: anglicky Data Governance, \n",
    "\n",
    "[^dta_stw]: anglicky Data Steward https://en.wikipedia.org/wiki/Data_steward\n",
    "\n",
    "[^dta_own]: anglicky Data Owner\n",
    "\n",
    "[^dta_cus]: anglicky Data Custodian https://en.wikipedia.org/wiki/Data_custodian"
   ]
  }
 ],
 "metadata": {
  "jupytext": {
   "cell_metadata_filter": "-all",
   "main_language": "python",
   "notebook_metadata_filter": "-all"
  },
  "jupytext_formats": "ipynb,md",
  "kernelspec": {
   "display_name": "Python 3",
   "language": "python",
   "name": "python3"
  },
  "language_info": {
   "codemirror_mode": {
    "name": "ipython",
    "version": 3
   },
   "file_extension": ".py",
   "mimetype": "text/x-python",
   "name": "python",
   "nbconvert_exporter": "python",
   "pygments_lexer": "ipython3",
   "version": "3.9.1"
  }
 },
 "nbformat": 4,
 "nbformat_minor": 5
}
