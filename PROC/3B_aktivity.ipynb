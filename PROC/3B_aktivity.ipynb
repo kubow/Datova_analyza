{
 "cells": [
  {
   "cell_type": "markdown",
   "id": "d191b879",
   "metadata": {},
   "source": [
    "## Aktivity nad daty\n",
    "\n",
    "[←](../Readme.md)\n",
    "\n",
    "Prvním krokem datové analýzy obecně je shromáždění relevantních informací (v tomto případě datových souborů) na jedno místo. \n",
    "\n",
    "\n",
    "https://en.wikipedia.org/wiki/Data_analysis\n",
    "Při zpracování dat a přípravě souborů pro následné zpracování\n",
    "\n",
    "- Získání hodnoty (viz předchozí kapitola [3A](3A_dotazy))\n",
    "- Filtrace datového souboru\n",
    "- Výpočet derivované hodnoty"
   ]
  },
  {
   "cell_type": "code",
   "execution_count": null,
   "id": "9f86bc7a",
   "metadata": {},
   "outputs": [],
   "source": []
  }
 ],
 "metadata": {
  "jupytext": {
   "cell_metadata_filter": "-all",
   "main_language": "python",
   "notebook_metadata_filter": "-all"
  },
  "jupytext_formats": "ipynb,md",
  "kernelspec": {
   "display_name": "Python 3",
   "language": "python",
   "name": "python3"
  },
  "language_info": {
   "codemirror_mode": {
    "name": "ipython",
    "version": 3
   },
   "file_extension": ".py",
   "mimetype": "text/x-python",
   "name": "python",
   "nbconvert_exporter": "python",
   "pygments_lexer": "ipython3",
   "version": "3.9.1"
  }
 },
 "nbformat": 4,
 "nbformat_minor": 5
}
