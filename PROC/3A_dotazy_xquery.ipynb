{
 "cells": [
  {
   "cell_type": "markdown",
   "id": "1886cbc4",
   "metadata": {},
   "source": [
    "## Získání dat pomocí jazyka XQuery\n",
    "\n",
    "[←](3A_dotazy.md)\n",
    "\n",
    "...\n",
    "\n",
    "XQuery (a obecně dokumenty definované na základě XDM[^xqry_xdm]) slouží k získávání dat uložeených ve formátu XML:\n",
    "\n",
    "| Příkaz    | Popis       | \n",
    "|-----------| --------------------- | \n",
    "| `setwd(cesta)`      | změna cesty pracovního adresáře             | \n",
    "| `getwd()`    | zobrazení cesty pracovního adresáře            |\n",
    "| `file.path(slozka1, ..., slozka n)`     | složení cesty           |\n",
    "| `list.files(cesta, include.dirs=TRUE)`      | výpis souborů a složek v pracovním adresáři | \n",
    "| `file_test('-f', cesta) / file_test('-f', cesta)`    | zjištění zda je cesta soubor / adresář |\n",
    "| `read.csv(cesta_souboru) / write.csv(df, cesta_souboru)`     | čtení / zápis csv souboru |\n",
    "\n",
    "\n",
    "\n",
    "\n"
   ]
  },
  {
   "cell_type": "markdown",
   "id": "d64cc4e1",
   "metadata": {},
   "source": [
    "--------\n",
    "Poznámky:\n",
    "\n",
    "\n",
    "[^xqry_xdm]: XDM je zkratka pro společný datový model pro jazyky XQuery, XPath, XSLT a XForms, více informací na [https://en.wikipedia.org/wiki/XQuery_and_XPath_Data_Model](https://en.wikipedia.org/wiki/XQuery_and_XPath_Data_Model).\n",
    "\n",
    "\n",
    "\n",
    "\n",
    "\n"
   ]
  }
 ],
 "metadata": {
  "jupytext": {
   "cell_metadata_filter": "-all",
   "main_language": "python",
   "notebook_metadata_filter": "-all"
  },
  "jupytext_formats": "ipynb,md",
  "kernelspec": {
   "display_name": "Python 3",
   "language": "python",
   "name": "python3"
  },
  "language_info": {
   "codemirror_mode": {
    "name": "ipython",
    "version": 3
   },
   "file_extension": ".py",
   "mimetype": "text/x-python",
   "name": "python",
   "nbconvert_exporter": "python",
   "pygments_lexer": "ipython3",
   "version": "3.9.1"
  }
 },
 "nbformat": 4,
 "nbformat_minor": 5
}
