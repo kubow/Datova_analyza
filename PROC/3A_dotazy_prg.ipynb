{
 "cells": [
  {
   "cell_type": "markdown",
   "id": "0f14e954",
   "metadata": {},
   "source": [
    "## Získání dat pomocí jazyka Python\n",
    "\n",
    "[←](3A_dotazy.md)\n",
    "\n",
    "Programovací jazyk Python je navržen jako víceúčelový, neslouží tedy jen k analýzám dat. Poprvé byl vydán v roce 1991 a od té doby bylo vydáno několik verzí, v současné době se drží vývojová řada označena jako Python 3<sup>1</sup>. Díky jeho univerzálnosti vyšla celá řada rozšíření a nádstaveb, pro účely datové analýzy nás však bude zajímat jen základní verze Python 3 s několika doinstalovanými moduly pro práci s daty.\n",
    "\n",
    "| Příkaz    | Popis       | \n",
    "|-----------| --------------------- | \n",
    "| `os.chdir(cesta)`      | změna cesty pracovního adresáře             | \n",
    "| `os.gectwd()`    | zobrazení cesty pracovního adresáře            |\n",
    "| `os.path.join(slozka1, ..., slozka n)`     | složení cesty           |\n",
    "| `os.listdir(cesta)`      | výpis souborů a složek v pracovním adresáři | \n",
    "| `os.ath.isfile(cesta) / os.ath.isdir(cesta)`    | zjištění zda je cesta soubor / adresář |\n",
    "| `pd.read_csv(cesta_souboru) / df.to_csv(cesta_souboru)`     | čtení / zápis csv souboru |\n",
    "\n",
    "Jazyk Python pracuje s omezeným počtem datových typů:\n",
    "\n",
    "| Datový typ | Popis       | Příklad |\n",
    "|-----------| --------------------- | ----------|\n",
    "| object      | Textový řetězec            | `'automobil'`|\n",
    "| float64    | Reálné číslo             | `24.0`  |\n",
    "| int64      | Celé číslo            | `24`|\n",
    "| datetime64    | Datum (a čas)            | `'2022-01-01 12:01:00'`  |\n",
    "\n"
   ]
  },
  {
   "cell_type": "code",
   "execution_count": 1,
   "id": "f4003d9b",
   "metadata": {},
   "outputs": [
    {
     "name": "stdout",
     "output_type": "stream",
     "text": [
      "       openness  security  open_source  eprice\n",
      "count       0.0      27.0      8.00000     0.0\n",
      "mean        NaN       5.0      0.25000     NaN\n",
      "std         NaN       0.0      0.46291     NaN\n",
      "min         NaN       5.0      0.00000     NaN\n",
      "25%         NaN       5.0      0.00000     NaN\n",
      "50%         NaN       5.0      0.00000     NaN\n",
      "75%         NaN       5.0      0.25000     NaN\n",
      "max         NaN       5.0      1.00000     NaN\n",
      "file total length: 28\n"
     ]
    }
   ],
   "source": [
    "import pandas as pd  # knihovna pandas umí mimo jiné číst xls soubory (! ne xlsx)\n",
    "csv_delimited = pd.read_csv(\"../DATA/engine_overview_202105140001.csv\")    # dynamic variable loading\n",
    "print(csv_delimited.describe())\n",
    "# csv_fixed = pd.read_fwf(\"../2_zdrojova_data/A_uloziste/engine_overview_202105140001.csv\")  # case fixed width table\n",
    "# print(csv_fixed)\n",
    "txt_data = []\n",
    "with open('../DATA/engine_overview_202105140001.csv') as f:\n",
    "    txt_data = f.readlines()\n",
    "print(f'file total length: {len(txt_data)}')"
   ]
  },
  {
   "cell_type": "markdown",
   "id": "1886cbc4",
   "metadata": {},
   "source": [
    "## Získání dat pomocí jazyka R\n",
    "\n",
    "[←](3A_dotazy.md)\n",
    "\n",
    "Programovací jazyk R je defnován jako prostředí pro zpracování dat a jejich analýzu. První vydání tohoto jazyka je datováno do roku 1995, jeho kořeny však sahají až do 70. let. Tento jazyk klade velký důraz na kompatibilitu s matematickými definicemi, doporučuje se tedy pracovat s tímto jazykem až po zvládnutí matematického základu. Pro usnadnění práce s čistě textovým prostředím bylo vydáno několik grafických nádstaveb (příkladem nejrozšířenější R Studio). Také je potřeba zmínit, že funkcionalitu pro různé typy datových setů a například i grafické zobrazování dat zajišťují tzv. balíčky, které lze do prostředí doinstalovat (stejně jako R je většina vedena pod licencí open-source).\n",
    "\n",
    "Při práci s datovými sety je tyto potřeba nejprve načíst do pracovního prostředí, k tomu slouží následující sada příkazů:\n",
    "\n",
    "| Příkaz    | Popis       | \n",
    "|-----------| --------------------- | \n",
    "| `setwd(cesta)`      | změna cesty pracovního adresáře             | \n",
    "| `getwd()`    | zobrazení cesty pracovního adresáře            |\n",
    "| `file.path(slozka1, ..., slozka n)`     | složení cesty           |\n",
    "| `list.files(cesta, include.dirs=TRUE)`      | výpis souborů a složek v pracovním adresáři | \n",
    "| `file_test('-f', cesta) / file_test('-f', cesta)`    | zjištění zda je cesta soubor / adresář |\n",
    "| `read.csv(cesta_souboru) / write.csv(df, cesta_souboru)`     | čtení / zápis csv souboru |\n",
    "\n",
    "Jazyk R pracuje s omezeným počtem datových typů:\n",
    "\n",
    "| Datový typ | Popis       | Příklad |\n",
    "|-----------| --------------------- | ----------|\n",
    "| character      | Textový řetězec            | `'automobil'`|\n",
    "| factor    | Textový řetězec, který může být řazen | `'high'`    |\n",
    "| numeric    | Reálné číslo             | `24.0`  |\n",
    "| int      | Celé číslo            | `24`|\n",
    "| Date    | Datum            |  `'2022-01-01'`    |\n",
    "| POSIXct    | Datum a čas             | `'2022-01-01 12:01:00'`  |\n",
    "\n"
   ]
  },
  {
   "cell_type": "markdown",
   "id": "d64cc4e1",
   "metadata": {},
   "source": [
    "--------\n",
    "Poznámky:\n",
    "\n",
    "\n",
    "<sup>1</sup> - přehled verzí Python je k dispozici na [python.org](https://www.python.org/downloads/).\n",
    "\n",
    "<sup>2</sup> -"
   ]
  }
 ],
 "metadata": {
  "jupytext": {
   "cell_metadata_filter": "-all",
   "main_language": "python",
   "notebook_metadata_filter": "-all"
  },
  "jupytext_formats": "ipynb,md",
  "kernelspec": {
   "display_name": "Python 3",
   "language": "python",
   "name": "python3"
  },
  "language_info": {
   "codemirror_mode": {
    "name": "ipython",
    "version": 3
   },
   "file_extension": ".py",
   "mimetype": "text/x-python",
   "name": "python",
   "nbconvert_exporter": "python",
   "pygments_lexer": "ipython3",
   "version": "3.9.1"
  }
 },
 "nbformat": 4,
 "nbformat_minor": 5
}
