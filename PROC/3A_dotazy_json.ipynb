{
 "cells": [
  {
   "cell_type": "markdown",
   "id": "1886cbc4",
   "metadata": {},
   "source": [
    "## Získání dat typu JSON\n",
    "\n",
    "[←](3A_dotazy.md)\n",
    "\n",
    "JSON (zkratka pro Java Script Object Notation) je způsob zápisu dat do částečně strukturovaného textového formátu (proti XML zápisu se hodí spíše na data, XML pak na dokumenty). Výhodou je, že tento formát poskytuje základní kontrolu nad datovými typy:\n",
    "\n",
    "| Datový typ | Popis       | Příklad |\n",
    "|-----------| --------------------- | ----------|\n",
    "| array      | Pole hodnot            | `{\"znacky\":[\"Skoda\", \"Jawa\", \"Tatra\"]}` |\n",
    "| boolean    | Logická hodnota          | `{\"platne\":true}`  |\n",
    "| number    | Reálné číslo | `{\"age\":50}`    |\n",
    "| object    | Zanořený JSON objekt  | `{...}`  |\n",
    "| string | Textový řetězec           |`{\"name\":\"Franta\"}`|\n",
    "\n",
    "Mimo tyto hodnoty je uznávána také hodnota `null`.\n",
    "\n",
    "Příklad zápisu JSON objektu:\n",
    "`\"obcan\":{\"name\":\"Franta\", \"age\":50, \"city\":\"Novakov\"}`\n",
    "\n",
    "Jazyky, které umožňují dotazy na notaci zapsanou v tomto zápise:\n",
    "\n",
    "- JAQL (JSON Query Language): běží v HADOOP, vyvinuto IBM\n",
    "https://isabel-drost.de/hadoop/slides/hadoop-ug-jaql.pdf\n",
    "\n",
    "- JSONiq\n",
    "\n",
    "| Příkaz    | Popis       | \n",
    "|-----------| --------------------- | \n",
    "| `read(hdfs(\"tabulka\"))`      | načtení tabulky uložené na struktuře HADOOP           | \n",
    "\n",
    "\n",
    "\n",
    "\n"
   ]
  },
  {
   "cell_type": "markdown",
   "id": "d64cc4e1",
   "metadata": {},
   "source": [
    "--------\n",
    "Poznámky:\n",
    "\n",
    "\n",
    "<sup>1</sup> - přehled verzí  [?](https://www._.org/).\n",
    "\n",
    "<sup>2</sup> -"
   ]
  }
 ],
 "metadata": {
  "jupytext": {
   "cell_metadata_filter": "-all",
   "main_language": "python",
   "notebook_metadata_filter": "-all"
  },
  "jupytext_formats": "ipynb,md",
  "kernelspec": {
   "display_name": "Python 3",
   "language": "python",
   "name": "python3"
  },
  "language_info": {
   "codemirror_mode": {
    "name": "ipython",
    "version": 3
   },
   "file_extension": ".py",
   "mimetype": "text/x-python",
   "name": "python",
   "nbconvert_exporter": "python",
   "pygments_lexer": "ipython3",
   "version": "3.9.1"
  }
 },
 "nbformat": 4,
 "nbformat_minor": 5
}
