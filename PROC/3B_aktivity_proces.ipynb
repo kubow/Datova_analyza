{
 "cells": [
  {
   "cell_type": "raw",
   "id": "bf3cca92",
   "metadata": {
    "lines_to_next_cell": 0
   },
   "source": [
    "---\n",
    "## Procesování dat\n",
    "\n",
    "[←](../3B_aktivity.md) [→ další krok](../3C_analyza.md)\n",
    "\n",
    "\n",
    "\n",
    "```\n",
    "\n",
    "\n",
    "V dalším příkladu jsou pak zaznamenány příklady hodnot, které mohou nabírat různé typy polí a také ty, které nejsou správné.\n",
    "\n",
    "\n",
    "```python\n",
    "df = pd.read_sql(\"SELECT * FROM typy_hodnot\", con=conn)\n",
    "\n",
    "print(df)\n",
    "conn.close()\n",
    "```\n",
    "\n",
    "\n",
    "Poznámky:\n",
    "\n",
    "[^dta_cln]: anglicky Data Cleansing (někdy také označováno jako Data Cleaning, Data Remedation, Data Scrubbing nebo Error Correction). ([detaily](https://en.wikipedia.org/wiki/Data_cleansing))\n",
    "\n",
    "[^dta_qlt]: anglicky Data Quality ([detaily](https://en.wikipedia.org/wiki/Data_quality))\n",
    "\n",
    "[^preciz]: témata přesnost a preciznost více viz https://cs.wikipedia.org/wiki/P%C5%99esnost_a_preciznost\n",
    "\n",
    "[^valid]: téma validity dat rozebráno na https://en.wikipedia.org/wiki/Validity_(statistics)\n",
    "\n",
    "[^konzis]: téma konzistence dat rozebráno na https://en.wikipedia.org/wiki/Consistency\n",
    "\n",
    "---"
   ]
  }
 ],
 "metadata": {
  "jupytext": {
   "cell_metadata_filter": "-all",
   "main_language": "python",
   "notebook_metadata_filter": "-all"
  },
  "jupytext_formats": "ipynb,md",
  "kernelspec": {
   "display_name": "Python 3",
   "language": "python",
   "name": "python3"
  },
  "language_info": {
   "codemirror_mode": {
    "name": "ipython",
    "version": 3
   },
   "file_extension": ".py",
   "mimetype": "text/x-python",
   "name": "python",
   "nbconvert_exporter": "python",
   "pygments_lexer": "ipython3",
   "version": "3.9.1"
  }
 },
 "nbformat": 4,
 "nbformat_minor": 5
}
