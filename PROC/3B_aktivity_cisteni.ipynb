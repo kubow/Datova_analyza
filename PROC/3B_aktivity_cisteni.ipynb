{
 "cells": [
  {
   "cell_type": "markdown",
   "id": "718a7f85",
   "metadata": {
    "lines_to_next_cell": 0
   },
   "source": [
    "---\n",
    "## Čištění pro vstup\n",
    "\n",
    "[←](../3B_aktivity.md) [→ další krok](../3B_aktivity_popis.md)\n",
    "\n",
    "\n",
    "Proces čištění dat[^dta_cln], při kterém identifikujeme poškozené, nepřesné či jinak neplatné záznamy nám umožňuje vylepšit kvalitu dat[^dta_qlt], která vstupuje do systému.\n",
    "\n",
    "[![](https://mermaid.ink/img/pako:eNo1zzFywkAMBdCraFSZGbiAi8yQOCdIumwKDSvCBq-8s2iZwZgjcAKauEyRUxjfK4tDOhVP_0tHXDWWscSPSGEDr5WRqhi_AqkMPWz3VDslsKQzWCweOifWbdMngySVZqcdLN-uZzf2er3I8HOD70aWk21CpH22HTwWwqG-RX5DO_StkD_M7gy6tuYw9hN8Kv4a09RoBOfoOXpyNl94NAJgUDfs2WCZR8trSrUaNHLKNIW8xc_WaROxXFO94zlS0ublICssNSb-R5Wj_LC_q9MvLddhjA)](https://mermaid-js.github.io/mermaid-live-editor/edit#pako:eNo1zzFywkAMBdCraFSZGbiAi8yQOCdIumwKDSvCBq-8s2iZwZgjcAKauEyRUxjfK4tDOhVP_0tHXDWWscSPSGEDr5WRqhi_AqkMPWz3VDslsKQzWCweOifWbdMngySVZqcdLN-uZzf2er3I8HOD70aWk21CpH22HTwWwqG-RX5DO_StkD_M7gy6tuYw9hN8Kv4a09RoBOfoOXpyNl94NAJgUDfs2WCZR8trSrUaNHLKNIW8xc_WaROxXFO94zlS0ublICssNSb-R5Wj_LC_q9MvLddhjA)\n",
    "\n",
    "Tyto aktivity lze shrnout do následujících oblastí:\n",
    "\n",
    "- **Správnost (validita)**[^valid]: záznamy prochází pokud vyhovují definovaným podmínkám, které můžou být nastaveny v úložném systému.\n",
    "- **Přesnost**[^preciz]: značí, v jakém formátu máme data uchovávat.\n",
    "- **Kompletnost**: v rámci čištění lze na nekompletnost dat poukázat a zvolit, jak budou neplatné záznamy vedeny.\n",
    "- **Konzistence**[^konzis]: \n",
    "- **Uniformita**: \n",
    "\n",
    "Nejběžnější typy problémů, se kterými se můžeme setkat:\n",
    "- Data nejsou správně parsovány\n",
    "- Data obsahují znaky, které by tam být neměly\n",
    "- Data obsahují chyby (v pravopise, výslovnosti, ...)\n",
    "- Data jsou nepřesná\n",
    "- Existují duplicitní záznamy\n",
    "- Při zpracování se objevuje nečekaný vzor\n",
    "\n",
    "\n",
    "### Ukázky na konkrétních příkladech\n",
    "\n",
    "Na prvním příkladu si ukážeme jakým zpsůobem mohou být záznamy validovány a identifikována jejich přesnost. "
   ]
  },
  {
   "cell_type": "code",
   "execution_count": 1,
   "id": "241f832d",
   "metadata": {},
   "outputs": [
    {
     "name": "stdout",
     "output_type": "stream",
     "text": [
      "        Souhlas_s_vyrokem  Pocet_respondentu  Procentuelni_zastoupeni\n",
      "0       Silně nesouhlasím               15.0                     30.0\n",
      "1             Nesouhlasím               13.0                     26.0\n",
      "2                   Nevím                2.0                      4.0\n",
      "3               Souhlasím               12.0                     24.0\n",
      "4         Silně souhlasím                8.0                     16.0\n",
      "Celkem                NaN               50.0                    100.0\n"
     ]
    }
   ],
   "source": [
    "import pandas as pd\n",
    "import sqlite3\n",
    "\n",
    "conn = sqlite3.connect('../DATA/vzory.db')\n",
    "df = pd.read_sql(\"SELECT * FROM dotaznik_typy_poli\", con=conn)\n",
    "# UNION ALL SELECT \"Celkem\", Sum(Pocet_respondentu), Sum(Procentuelni_zastoupeni) FROM dotaznik_typy_poli\n",
    "df.loc['Celkem']= df.sum(numeric_only=True, axis=0)\n",
    "print(df)"
   ]
  },
  {
   "cell_type": "markdown",
   "id": "af44fd2b",
   "metadata": {},
   "source": [
    "V dalším příkladu jsou pak zaznamenány příklady hodnot, které mohou nabírat různé typy polí a také ty, které nejsou správné.\n"
   ]
  },
  {
   "cell_type": "code",
   "execution_count": 2,
   "id": "44e74d74",
   "metadata": {},
   "outputs": [
    {
     "name": "stdout",
     "output_type": "stream",
     "text": [
      "       Typ_hodnoty Celociselne  Desetinne Logicke    Textove\n",
      "0          Správná          10       10.5    True  Automobil\n",
      "1       Přijatelná        10.5  10.333333  0/Null       None\n",
      "2  Nezpracovatelná         Ano        3/4  Pravda       blob\n"
     ]
    }
   ],
   "source": [
    "df = pd.read_sql(\"SELECT * FROM typy_hodnot\", con=conn)\n",
    "\n",
    "print(df)\n",
    "conn.close()"
   ]
  },
  {
   "cell_type": "markdown",
   "id": "e62c85ee",
   "metadata": {},
   "source": [
    "## Popisy čištění dle různých nástrojů\n",
    "\n",
    "[Čištění podle aplikace tableau](https://www.tableau.com/learn/articles/what-is-data-cleaning)\n",
    "\n",
    "[Čištění podle aplikace talend](https://www.talend.com/resources/what-is-data-cleansing/)"
   ]
  },
  {
   "cell_type": "markdown",
   "id": "599dc6a7",
   "metadata": {},
   "source": [
    "Poznámky:\n",
    "\n",
    "[^dta_cln]: anglicky Data Cleansing (někdy také označováno jako Data Cleaning, Data Remedation, Data Scrubbing nebo Error Correction). ([detaily](https://en.wikipedia.org/wiki/Data_cleansing))\n",
    "\n",
    "[^dta_qlt]: anglicky Data Quality ([detaily](https://en.wikipedia.org/wiki/Data_quality))\n",
    "\n",
    "[^preciz]: témata přesnost a preciznost více viz https://cs.wikipedia.org/wiki/P%C5%99esnost_a_preciznost\n",
    "\n",
    "[^valid]: téma validity dat rozebráno na https://en.wikipedia.org/wiki/Validity_(statistics)\n",
    "\n",
    "[^konzis]: téma konzistence dat rozebráno na https://en.wikipedia.org/wiki/Consistency"
   ]
  }
 ],
 "metadata": {
  "jupytext": {
   "cell_metadata_filter": "-all",
   "main_language": "python",
   "notebook_metadata_filter": "-all"
  },
  "jupytext_formats": "ipynb,md",
  "kernelspec": {
   "display_name": "Python 3",
   "language": "python",
   "name": "python3"
  },
  "language_info": {
   "codemirror_mode": {
    "name": "ipython",
    "version": 3
   },
   "file_extension": ".py",
   "mimetype": "text/x-python",
   "name": "python",
   "nbconvert_exporter": "python",
   "pygments_lexer": "ipython3",
   "version": "3.9.1"
  }
 },
 "nbformat": 4,
 "nbformat_minor": 5
}
