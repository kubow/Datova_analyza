{
 "cells": [
  {
   "cell_type": "markdown",
   "id": "7b74b7c5",
   "metadata": {},
   "source": [
    "## Získání dat pomocí SQL \n",
    "\n",
    "[←](3A_dotazy.md)\n",
    "\n",
    "Jazyk SQL (Structured Query Language) se skládá z několika klíčových slov, které byly standartizovány na konci 80. let. \n",
    "Slouží k dotazování a změně strukturovaných dat uložených především v relačních databázových systémech (RDBMS). \n",
    "Pomocí SQL lze dokonce měnit strukturu dat i data samotná. SQL \n",
    "\n",
    "\n",
    "Obecná struktura výběrového dotazu je následující:\n",
    "\n",
    "![vyber dat](../obr/SQL_SELECT_structure.svg)\n",
    "\n",
    "Pro úpravu dat v jazyce SQL se používá následující struktura:\n",
    "\n",
    "![uprava dat](../obr/SQL_UPDATE_structure.svg)"
   ]
  },
  {
   "cell_type": "markdown",
   "id": "d64cc4e1",
   "metadata": {},
   "source": [
    "--------\n",
    "Poznámky:\n",
    "\n",
    "\n",
    "<sup>1</sup> - kompletnější výčet jazyků na dotazování se lze dočíst na [wikipedii](https://en.wikipedia.org/wiki/Query_language).\n",
    "<sup>2</sup> -"
   ]
  }
 ],
 "metadata": {
  "jupytext": {
   "cell_metadata_filter": "-all",
   "main_language": "python",
   "notebook_metadata_filter": "-all"
  },
  "jupytext_formats": "ipynb,md",
  "kernelspec": {
   "display_name": "Python 3",
   "language": "python",
   "name": "python3"
  },
  "language_info": {
   "codemirror_mode": {
    "name": "ipython",
    "version": 3
   },
   "file_extension": ".py",
   "mimetype": "text/x-python",
   "name": "python",
   "nbconvert_exporter": "python",
   "pygments_lexer": "ipython3",
   "version": "3.9.1"
  }
 },
 "nbformat": 4,
 "nbformat_minor": 5
}
