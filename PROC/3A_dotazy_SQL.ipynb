{
 "cells": [
  {
   "cell_type": "markdown",
   "id": "7b74b7c5",
   "metadata": {},
   "source": [
    "## Získání dat pomocí SQL \n",
    "\n",
    "[←](3A_dotazy.md)\n",
    "\n",
    "Jazyk SQL (Structured Query Language) se skládá z několika klíčových slov, které byly standartizovány na konci 80. let. \n",
    "Slouží k dotazování a změně strukturovaných dat uložených především v relačních databázových systémech (RDBMS). \n",
    "Pomocí SQL lze dokonce měnit strukturu dat i data samotná. SQL \n",
    "\n",
    "### Výběrové dotazy\n",
    "\n",
    "Obecná struktura výběrového dotazu je následující:\n",
    "\n",
    "![vyber dat](../obr/SQL_SELECT_structure.svg)\n",
    "\n",
    "K efektivnímu zobrazování složitějších dotazů nám pomáhá řada operátorů, klauzulí a hodnot. Jejich přehled uvádí následující tabulka::\n",
    "\n",
    "[Zdroj](https://www.codecademy.com/learn/learn-sql/modules/learn-sql-queries/cheatsheet)\n",
    "\n",
    "| Typ    | Název       | Popis       | Příklad     | \n",
    "|--------| ----------- | ----------- | ----------- | \n",
    "| zástupný znak | `%`    | nahrazení 0 i více zástupných znaků ve **WHERE** klauzuli (ve spojení s LIKE operátorem)  |  `SELECT A FROM T1 WHERE A.x LIKE='ab%'`  |\n",
    "| zástupný znak | `_`    | nahrazení právě jednoho zástupného znaků ve **WHERE** klauzuli (ve spojení s LIKE operátorem)  |  `SELECT A FROM T1 WHERE A.x LIKE='_uto'`  |\n",
    "| operátor | `AND`    | spojování podmínek ve **WHERE** klauzuli   |  `SELECT A FROM T1 WHERE A.x='1' AND A.y=1`  |\n",
    "| operátor | `OR`    | kombinace podmínek ve **WHERE** klauzuli   |  `SELECT A FROM T1 WHERE A.x='1' OR A.y=1`  |\n",
    "| operátor | `LIKE`    | výběr podobných výrazů ve **WHERE** klauzuli   |  `SELECT A FROM T1 WHERE A.x LIKE 'ab%'` |\n",
    "| operátor | `BETWEEN`    | definice intervalu ve **WHERE** klauzuli (ve spojení s klauzulí AND)  |  `SELECT znacka FROM AUTA WHERE A.vyrobeno BETWEEN 1950 AND 1980` |\n",
    "| klauzule | `AS`    | definice aliasu pro sloupce nebo celé tabulky   |  `SELECT A AS 'hodnota' FROM T1`  |\n",
    "| kaluzule | `DISTINCT`    | omezení výběru pouze na unikátní výrazy  |  `SELECT DISTINCT znacka FROM AUTA` |\n",
    "\n",
    "\n",
    "\n",
    "### Změnové dotazy\n",
    "\n",
    "Pro úpravu dat v jazyce SQL se používá následující struktura:\n",
    "\n",
    "![uprava dat](../obr/SQL_UPDATE_structure.svg)"
   ]
  },
  {
   "cell_type": "markdown",
   "id": "d64cc4e1",
   "metadata": {},
   "source": [
    "--------\n",
    "Poznámky:\n",
    "\n",
    "\n",
    "<sup>1</sup> - kompletnější výčet jazyků na dotazování se lze dočíst na [wikipedii](https://en.wikipedia.org/wiki/Query_language).\n",
    "<sup>2</sup> -[learn SQL manipulation](https://www.codecademy.com/learn/learn-sql/modules/learn-sql-manipulation/cheatsheet)."
   ]
  }
 ],
 "metadata": {
  "jupytext": {
   "cell_metadata_filter": "-all",
   "main_language": "python",
   "notebook_metadata_filter": "-all"
  },
  "jupytext_formats": "ipynb,md",
  "kernelspec": {
   "display_name": "Python 3",
   "language": "python",
   "name": "python3"
  },
  "language_info": {
   "codemirror_mode": {
    "name": "ipython",
    "version": 3
   },
   "file_extension": ".py",
   "mimetype": "text/x-python",
   "name": "python",
   "nbconvert_exporter": "python",
   "pygments_lexer": "ipython3",
   "version": "3.9.1"
  }
 },
 "nbformat": 4,
 "nbformat_minor": 5
}
