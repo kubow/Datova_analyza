{
 "cells": [
  {
   "cell_type": "markdown",
   "id": "0f14e954",
   "metadata": {},
   "source": [
    "## Získání dat pomocí jazyka Python\n",
    "\n",
    "[←](3A_dotazy.md)\n",
    "\n",
    "Programovací jazyk Python je navržen jako víceúčelový, neslouží tedy jen k analýzám dat. Poprvé byl vydán v roce 1991 a od té doby bylo vydáno několik verzí, v současné době se drží vývojová řada označena jako Python 3<sup>1</sup>. Díky jeho univerzálnosti vyšla celá řada rozšíření a nádstaveb, pro účely datové analýzy nás však bude zajímat jen základní verze Python 3 s několika doinstalovanými moduly pro práci s daty.\n",
    "\n",
    "| Příkaz    | Popis       | \n",
    "|-----------| --------------------- | \n",
    "| `os.chdir(cesta)`      | změna cesty pracovního adresáře             | \n",
    "| `os.gectwd()`    | zobrazení cesty pracovního adresáře            |\n",
    "| `os.path.join(slozka1, ..., slozka n)`     | složení cesty           |\n",
    "| `os.listdir(cesta)`      | výpis souborů a složek v pracovním adresáři | \n",
    "| `os.ath.isfile(cesta) / os.ath.isdir(cesta)`    | zjištění zda je cesta soubor / adresář |\n",
    "| `pd.read_csv(cesta_souboru) / df.to_csv(cesta_souboru)`     | čtení / zápis csv souboru |\n",
    "\n",
    "Jazyk Python pracuje s omezeným počtem datových typů:\n",
    "\n",
    "| Datový typ | Popis       | Příklad |\n",
    "|-----------| --------------------- | ----------|\n",
    "| object      | Textový řetězec            | `'automobil'`|\n",
    "| float64    | Reálné číslo             | `24.0`  |\n",
    "| int64      | Celé číslo            | `24`|\n",
    "| datetime64    | Datum (a čas)            | `'2022-01-01 12:01:00'`  |\n",
    "\n",
    "Příklady prohlížení dat pomocí programovacího jazyka python:\n"
   ]
  },
  {
   "cell_type": "code",
   "execution_count": 5,
   "id": "f4003d9b",
   "metadata": {},
   "outputs": [
    {
     "name": "stdout",
     "output_type": "stream",
     "text": [
      "1. JSON data (příklad seznam hlavních klíčů v souboru)\n",
      "[{'ename': 'SQLite', 'developer': 'Dwayne Richard Hipp', 'free_version': 'False', 'openness': None, 'cat_name': 'OLTP', 'supported_os': 'win+linux+osx', 'security': 5, 'area': 'on-premise', 'language': None, 'website': None, 'open_source': None, 'eprice': None}, {'ename': 'SQL Anywhere', 'developer': 'SAP', 'free_version': 'False', 'openness': None, 'cat_name': 'OLTP', 'supported_os': 'win+linux+osx', 'security': 5, 'area': 'on-premise', 'language': None, 'website': None, 'open_source': None, 'eprice': None}, {'ename': 'Adaptive Server Enterprise', 'developer': 'SAP', 'free_version': 'False', 'openness': None, 'cat_name': 'OLTP', 'supported_os': 'linux+unix+windows', 'security': 5, 'area': 'hybrid', 'language': 'C/C++', 'website': None, 'open_source': 0, 'eprice': None}]\n",
      "\n",
      "2. CSV soubor (statistiky souboru pomocí knihovny pandas)\n",
      "       openness  security  open_source  eprice\n",
      "count       0.0      27.0      8.00000     0.0\n",
      "mean        NaN       5.0      0.25000     NaN\n",
      "std         NaN       0.0      0.46291     NaN\n",
      "min         NaN       5.0      0.00000     NaN\n",
      "25%         NaN       5.0      0.00000     NaN\n",
      "50%         NaN       5.0      0.00000     NaN\n",
      "75%         NaN       5.0      0.25000     NaN\n",
      "max         NaN       5.0      1.00000     NaN\n",
      "\n",
      "3. CSV soubor (alternativní načtení všech řádků)\n",
      "file total length: 28\n",
      "\n",
      "4. XLS soubor (statistika souboru pomocí knihovny pandas)\n",
      "       openness  security  open_source  eprice\n",
      "count       0.0      27.0      8.00000     0.0\n",
      "mean        NaN       5.0      0.25000     NaN\n",
      "std         NaN       0.0      0.46291     NaN\n",
      "min         NaN       5.0      0.00000     NaN\n",
      "25%         NaN       5.0      0.00000     NaN\n",
      "50%         NaN       5.0      0.00000     NaN\n",
      "75%         NaN       5.0      0.25000     NaN\n",
      "max         NaN       5.0      1.00000     NaN\n",
      "\n",
      "5. XLSX soubor (pomocí knihovny openpyxl)\n",
      "['BREAK_COLUMN', 'BREAK_NONE', 'BREAK_ROW', 'HeaderFooter', 'ORIENTATION_LANDSCAPE', 'ORIENTATION_PORTRAIT', 'PAPERSIZE_A3', 'PAPERSIZE_A4', 'PAPERSIZE_A4_SMALL', 'PAPERSIZE_A5', 'PAPERSIZE_EXECUTIVE', 'PAPERSIZE_LEDGER', 'PAPERSIZE_LEGAL', 'PAPERSIZE_LETTER', 'PAPERSIZE_LETTER_SMALL', 'PAPERSIZE_STATEMENT', 'PAPERSIZE_TABLOID', 'SHEETSTATE_HIDDEN', 'SHEETSTATE_VERYHIDDEN', 'SHEETSTATE_VISIBLE', '_WorkbookChild__title', '__class__', '__delattr__', '__delitem__', '__dict__', '__dir__', '__doc__', '__eq__', '__format__', '__ge__', '__getattribute__', '__getitem__', '__gt__', '__hash__', '__init__', '__init_subclass__', '__iter__', '__le__', '__lt__', '__module__', '__ne__', '__new__', '__reduce__', '__reduce_ex__', '__repr__', '__setattr__', '__setitem__', '__sizeof__', '__str__', '__subclasshook__', '__weakref__', '_add_cell', '_add_column', '_add_row', '_cells', '_cells_by_col', '_cells_by_row', '_charts', '_clean_merge_range', '_comments', '_current_row', '_default_title', '_drawing', '_get_cell', '_hyperlinks', '_id', '_images', '_invalid_row', '_move_cell', '_move_cells', '_parent', '_path', '_pivots', '_print_area', '_print_cols', '_print_rows', '_rel_type', '_rels', '_setup', '_tables', 'active_cell', 'add_chart', 'add_data_validation', 'add_image', 'add_pivot', 'add_table', 'append', 'auto_filter', 'calculate_dimension', 'cell', 'col_breaks', 'column_dimensions', 'columns', 'conditional_formatting', 'data_validations', 'delete_cols', 'delete_rows', 'dimensions', 'encoding', 'evenFooter', 'evenHeader', 'firstFooter', 'firstHeader', 'formula_attributes', 'freeze_panes', 'insert_cols', 'insert_rows', 'iter_cols', 'iter_rows', 'legacy_drawing', 'max_column', 'max_row', 'merge_cells', 'merged_cell_ranges', 'merged_cells', 'mime_type', 'min_column', 'min_row', 'move_range', 'oddFooter', 'oddHeader', 'orientation', 'page_breaks', 'page_margins', 'page_setup', 'paper_size', 'parent', 'path', 'print_area', 'print_options', 'print_title_cols', 'print_title_rows', 'print_titles', 'protection', 'row_breaks', 'row_dimensions', 'rows', 'scenarios', 'selected_cell', 'set_printer_settings', 'sheet_format', 'sheet_properties', 'sheet_state', 'sheet_view', 'show_gridlines', 'show_summary_below', 'show_summary_right', 'tables', 'title', 'unmerge_cells', 'values', 'views']\n"
     ]
    }
   ],
   "source": [
    "import json\n",
    "import openpyxl  # knihovna openpyxl umí číst xlsx soubory\n",
    "import pandas as pd  # knihovna pandas umí mimo jiné číst xls soubory (! ne xlsx)\n",
    "\n",
    "print('1. JSON data (příklad seznam hlavních klíčů v souboru)')\n",
    "with open(\"../DATA/engine_overview_202105140003.json\", encoding='utf-8') as j:\n",
    "    obsah = json.loads(j.read())\n",
    "print(list(obsah['engine_overview'])[0:3])\n",
    "\n",
    "print('\\n2. CSV soubor (statistiky souboru pomocí knihovny pandas)')\n",
    "csv_delimited = pd.read_csv(\"../DATA/engine_overview_202105140001.csv\")    # dynamic variable loading\n",
    "print(csv_delimited.describe())\n",
    "# csv_fixed = pd.read_fwf(\"../DATA/engine_overview_202105140001.csv\")  # case fixed width table\n",
    "# print(csv_fixed)\n",
    "print('\\n3. CSV soubor (alternativní načtení všech řádků)')\n",
    "txt_data = []\n",
    "with open('../DATA/engine_overview_202105140001.csv') as f:\n",
    "    txt_data = f.readlines()\n",
    "print(f'file total length: {len(txt_data)}')\n",
    "\n",
    "xls = pd.read_excel(\"../DATA/engine_overview_202105140001.xls\")\n",
    "print('\\n4. XLS soubor (statistika souboru pomocí knihovny pandas)')\n",
    "print(xls.describe())\n",
    "\n",
    "xlsx = openpyxl.load_workbook(\"../DATA/engine_overview_202105140001.xlsx\") \n",
    "sheet = xlsx.active  # read active sheet\n",
    "print('\\n5. XLSX soubor (pomocí knihovny openpyxl)')\n",
    "print(dir(sheet))"
   ]
  },
  {
   "cell_type": "markdown",
   "id": "d64cc4e1",
   "metadata": {},
   "source": [
    "--------\n",
    "Poznámky:\n",
    "\n",
    "\n",
    "<sup>1</sup> - přehled verzí Python je k dispozici na [python.org](https://www.python.org/downloads/).\n",
    "\n",
    "<sup>2</sup> -"
   ]
  }
 ],
 "metadata": {
  "jupytext": {
   "cell_metadata_filter": "-all",
   "main_language": "python",
   "notebook_metadata_filter": "-all"
  },
  "jupytext_formats": "ipynb,md",
  "kernelspec": {
   "display_name": "Python 3",
   "language": "python",
   "name": "python3"
  },
  "language_info": {
   "codemirror_mode": {
    "name": "ipython",
    "version": 3
   },
   "file_extension": ".py",
   "mimetype": "text/x-python",
   "name": "python",
   "nbconvert_exporter": "python",
   "pygments_lexer": "ipython3",
   "version": "3.9.1"
  }
 },
 "nbformat": 4,
 "nbformat_minor": 5
}
