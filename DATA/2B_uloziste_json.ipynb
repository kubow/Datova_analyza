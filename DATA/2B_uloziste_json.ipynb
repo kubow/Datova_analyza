{
 "cells": [
  {
   "cell_type": "markdown",
   "id": "1886cbc4",
   "metadata": {},
   "source": [
    "## Úložiště typu JSON\n",
    "\n",
    "[←](2B_uloziste.md)\n",
    "\n",
    "JSON (zkratka pro Java Script Object Notation)[^json] je způsob zápisu dat do částečně strukturovaného textového formátu (proti XML zápisu se hodí spíše na data, XML pak na dokumenty). Výhodou oproti XML je, že tento zápis je úspornější, rychlejší a jendodušší na čtení, navíc poskytuje základní kontrolu nad datovými typy:\n",
    "\n",
    "| Datový typ | Popis       | Příklad |\n",
    "|-----------| --------------------- | ----------|\n",
    "| string | Textový řetězec           |`{\"jmeno\":\"Franta\"}`|\n",
    "| number    | Reálné číslo | `{\"vek\":50}`    |\n",
    "| array      | Pole hodnot            | `{\"jmena\":[\"Adam\", \"Jindra\", \"Tomáš\"]}` |\n",
    "| object    | Zanořený JSON objekt  | `{...}`  |\n",
    "\n",
    "Mimo uvedené datové typy jsou uznávány tyto speciální hodnoty:\n",
    "\n",
    "- `null`\n",
    "- `true`\n",
    "- `false`\n",
    "\n",
    "Příklad zápisu JSON objektu:\n",
    "`\"obcan\":{\"jmeno\":\"Franta\", \"vek\":50, \"adresa\":\"Novakov\", \"aktivni_clen\":false}`\n",
    "\n",
    "Jazyky, které umožňují dotazy na notaci zapsanou v tomto zápise:\n",
    "\n",
    "- JAQL (JSON Query Language): běží v HADOOP, vyvinuto IBM\n",
    "https://isabel-drost.de/hadoop/slides/hadoop-ug-jaql.pdf\n",
    "- JSONiq\n",
    "\n",
    "Databázové systémy podporující JSON[^json_db]:\n",
    "\n",
    "- MongoDB\n",
    "- Couchbase\n",
    "- CouchDB\n",
    "- DocumentDB\n",
    "- Marklogic\n",
    "- OrientDB\n",
    "- RethinkDB\n",
    "- Riak\n",
    "- BaseX\n",
    "- Elasticsearch\n",
    "- MySQL\n",
    "- Oracle\n",
    "- PostgreSQL\n",
    "\n",
    "\n",
    "| Příkaz    | Popis       | \n",
    "|-----------| --------------------- | \n",
    "| `read(hdfs(\"tabulka\"))`      | načtení tabulky uložené na struktuře HADOOP           | \n",
    "\n",
    "\n",
    "\n",
    "\n"
   ]
  },
  {
   "cell_type": "markdown",
   "id": "d64cc4e1",
   "metadata": {},
   "source": [
    "--------\n",
    "Poznámky:\n",
    "\n",
    "\n",
    "[^json]: Definice zápisu JSON k dispozici na [https://www.json.org/json-en.html](https://www.json.org/json-en.html)\n",
    "\n",
    "[^json_db]: seznam databází k dispozici například na [https://www.quackit.com/json/tutorial/list_of_json_databases.cfm](https://www.quackit.com/json/tutorial/list_of_json_databases.cfm)"
   ]
  }
 ],
 "metadata": {
  "jupytext": {
   "cell_metadata_filter": "-all",
   "main_language": "python",
   "notebook_metadata_filter": "-all"
  },
  "jupytext_formats": "ipynb,md",
  "kernelspec": {
   "display_name": "Python 3",
   "language": "python",
   "name": "python3"
  },
  "language_info": {
   "codemirror_mode": {
    "name": "ipython",
    "version": 3
   },
   "file_extension": ".py",
   "mimetype": "text/x-python",
   "name": "python",
   "nbconvert_exporter": "python",
   "pygments_lexer": "ipython3",
   "version": "3.9.1"
  }
 },
 "nbformat": 4,
 "nbformat_minor": 5
}
