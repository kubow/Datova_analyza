{
 "cells": [
  {
   "attachments": {},
   "cell_type": "markdown",
   "id": "30c784c8",
   "metadata": {},
   "source": [
    "## Porovnání dat z ČSÚ\n",
    "\n",
    "[←](../Readme.md)\n",
    "\n",
    "Využívá se API rozhraní pro ČSÚ: `https://api.apitalks.store/czso.cz`\n",
    "\n",
    "První krok je příprava knihoven a provedení základního nastavení. Po výběru budete postupovat ve zvolené kategorii.\n"
   ]
  },
  {
   "cell_type": "code",
   "execution_count": 29,
   "id": "70037086",
   "metadata": {},
   "outputs": [
    {
     "data": {
      "application/vnd.jupyter.widget-view+json": {
       "model_id": "f9625c1d52ff4e71a83cfb584c5130be",
       "version_major": 2,
       "version_minor": 0
      },
      "text/plain": [
       "interactive(children=(Password(description='Vyplňte token:', placeholder='Vložte token, který jste obdrželi př…"
      ]
     },
     "metadata": {},
     "output_type": "display_data"
    },
    {
     "data": {
      "application/vnd.jupyter.widget-view+json": {
       "model_id": "c6fca8b491a644d0ad1cb4882ffebc76",
       "version_major": 2,
       "version_minor": 0
      },
      "text/plain": [
       "interactive(children=(Dropdown(description='Vyberte typ statistiky:', options=('sčítání lidu', 'průměrné mzdy'…"
      ]
     },
     "metadata": {},
     "output_type": "display_data"
    }
   ],
   "source": [
    "from io import BytesIO\n",
    "import json\n",
    "import matplotlib.pyplot as plt\n",
    "import pandas as pd\n",
    "# import re\n",
    "import urllib.parse\n",
    "import urllib.request\n",
    "try:\n",
    "    from ipywidgets import interact, Dropdown, Password\n",
    "    widget = True  # the interactive way is opened otherwise\n",
    "except ImportError:\n",
    "    widget = False  # we need to install \n",
    "\n",
    "%matplotlib inline\n",
    "\n",
    "def api_get(url):\n",
    "    req = urllib.request.Request(f'https://api.apitalks.store/czso.cz/{url}')\n",
    "    if api_key.value:\n",
    "        req.add_header('x-api-key', api_key.value)\n",
    "        response = urllib.request.urlopen(req)\n",
    "        return response.read()\n",
    "    else:\n",
    "        print('Prosím vyplňte první váš API klíč')\n",
    "        return None\n",
    "\n",
    "def show(x):\n",
    "    return f'Vybraná hodnota: {x}'\n",
    "\n",
    "stats = {\n",
    "    \"sčítání lidu\": {  \n",
    "        \"addr\": \"lide-domy-byty\",\n",
    "        \"memo\": \"\"\n",
    "    },\n",
    "    \"průměrné mzdy\": {\n",
    "        \"addr\": \"prumerne-mzdy-odvetvi\"\n",
    "    },\n",
    "    \"průměrné ceny výrobků\": {\n",
    "        \"addr\": \"prumerne-spotrebitelske-ceny-vybranych-vyrobku-potravinarske-vyrobky\"\n",
    "    }\n",
    "}\n",
    "\n",
    "api_key = Password(\n",
    "    value='hhf8XQx5vcb5hme85HUA7t9Saxh6P9J7CYHKYjSa',  # předvyplněno\n",
    "    placeholder=\"Vložte token, který jste obdrželi při registraci\",\n",
    "    description='Vyplňte klíč:',\n",
    "    disabled=False,\n",
    ")\n",
    "\n",
    "stat_type = Dropdown(\n",
    "    options=stats.keys(),\n",
    "    value='sčítání lidu',\n",
    "    description='Vyberte typ statistiky:',\n",
    "    disabled=False,\n",
    ")\n",
    "\n",
    "_ = interact(show, x=api_key)\n",
    "_ = interact(show, x=stat_type)\n"
   ]
  },
  {
   "attachments": {},
   "cell_type": "markdown",
   "id": "23c9a0b1",
   "metadata": {},
   "source": [
    "\n",
    "## Základní statistiky\n",
    "\n"
   ]
  },
  {
   "cell_type": "code",
   "execution_count": 28,
   "id": "d67474bd",
   "metadata": {},
   "outputs": [
    {
     "name": "stdout",
     "output_type": "stream",
     "text": [
      "       idhod hodnota  stapro_kod  mj_cis  mj_kod  typosoby_kod  odvetvi_cis  \\\n",
      "0  741371788   175.5         316      78   80403           100         5103   \n",
      "1  741371789   182.1         316      78   80403           100         5103   \n",
      "2  741371790   184.1         316      78   80403           100         5103   \n",
      "3  741371791   177.1         316      78   80403           100         5103   \n",
      "4  741371795   166.6         316      78   80403           100         5103   \n",
      "\n",
      "  odvetvi_kod   rok  ctvrtleti  uzemi_cis  uzemi_kod  \\\n",
      "0           A  2000          1         97         19   \n",
      "1           A  2000          2         97         19   \n",
      "2           A  2000          3         97         19   \n",
      "3           A  2000          4         97         19   \n",
      "4           A  2001          1         97         19   \n",
      "\n",
      "                         stapro_txt                mj_txt typosoby_txt  \\\n",
      "0  Průměrný počet zaměstnaných osob  tis. osob (tis. os.)      fyzický   \n",
      "1  Průměrný počet zaměstnaných osob  tis. osob (tis. os.)      fyzický   \n",
      "2  Průměrný počet zaměstnaných osob  tis. osob (tis. os.)      fyzický   \n",
      "3  Průměrný počet zaměstnaných osob  tis. osob (tis. os.)      fyzický   \n",
      "4  Průměrný počet zaměstnaných osob  tis. osob (tis. os.)      fyzický   \n",
      "\n",
      "                         odvetvi_txt  \n",
      "0  Zemědělství, lesnictví, rybářství  \n",
      "1  Zemědělství, lesnictví, rybářství  \n",
      "2  Zemědělství, lesnictví, rybářství  \n",
      "3  Zemědělství, lesnictví, rybářství  \n",
      "4  Zemědělství, lesnictví, rybářství  \n"
     ]
    }
   ],
   "source": [
    "a = api_get(stats[stat_type.value]['addr'])\n",
    "# print(json.loads(a.decode(\"utf-8\"))['data'])\n",
    "content = pd.DataFrame(json.loads(a.decode(\"utf-8\"))['data'])\n",
    "print(content.head())"
   ]
  },
  {
   "cell_type": "markdown",
   "id": "5b1ed851",
   "metadata": {},
   "source": []
  },
  {
   "cell_type": "code",
   "execution_count": null,
   "id": "5a68f4c1",
   "metadata": {},
   "outputs": [],
   "source": []
  }
 ],
 "metadata": {
  "jupytext": {
   "formats": "ipynb,md"
  },
  "jupytext_formats": "ipynb,md",
  "kernelspec": {
   "display_name": "Python 3 (ipykernel)",
   "language": "python",
   "name": "python3"
  },
  "language_info": {
   "codemirror_mode": {
    "name": "ipython",
    "version": 3
   },
   "file_extension": ".py",
   "mimetype": "text/x-python",
   "name": "python",
   "nbconvert_exporter": "python",
   "pygments_lexer": "ipython3",
   "version": "3.10.6"
  }
 },
 "nbformat": 4,
 "nbformat_minor": 5
}
