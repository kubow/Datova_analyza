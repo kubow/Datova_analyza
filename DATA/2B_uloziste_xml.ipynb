{
 "cells": [
  {
   "cell_type": "markdown",
   "id": "dd87dc97",
   "metadata": {},
   "source": [
    "## Úložiště typu XML\n",
    "\n",
    "[←](2B_uloziste.md)\n",
    "\n",
    "...\n",
    "\n",
    "XML \n",
    "základ\n",
    "atakdále...\n",
    "\n",
    "XML Schéma[^xml_sch]\n",
    "\n",
    "\n",
    "Datové typy lze v jazyce XML definovat pomocí sady definic XSD[^xml_xsd]:\n",
    "\n",
    "| Datový typ | Popis       | Příklad |\n",
    "|-----------| --------------------- | ----------|\n",
    "| string      | textový řetězec            | `'automobil'`|\n",
    "| boolean    | logická hodnota | `'True'`    |\n",
    "| decimal    | desetinné číslo   | `24.0`  |\n",
    "| float/double      | reálná čísla   | `24.2568`|\n",
    "| duration/dateTime/...    | kalendářní hodnoty  |  `'2022-01-01'`    |\n",
    "| anyURI    | sekvence znaků  | `'mailto:Jan.Novak@mail.cz'`  |\n",
    "| QName      | kvalifikovaný název            | `'automobil'`|\n",
    "| NOTATION    | logická hodnota | `'True'`    |\n"
   ]
  },
  {
   "cell_type": "markdown",
   "id": "d64cc4e1",
   "metadata": {},
   "source": [
    "--------\n",
    "Poznámky:\n",
    "\n",
    "[^xml_sch]: https://en.wikipedia.org/wiki/XML_schema\n",
    "\n",
    "[^xml_xsd]: XSD je zkratka pro definici jazyka XML (XMKL Schema Definition), více informací o definici na [https://cs.wikipedia.org/wiki/XML_Schema](https://cs.wikipedia.org/wiki/XML_Schema), datové typy jsou popsány na [https://en.wikipedia.org/wiki/Primitive_data_type#XML_Schema](https://en.wikipedia.org/wiki/Primitive_data_type#XML_Schema).\n",
    "\n",
    "\n"
   ]
  }
 ],
 "metadata": {
  "jupytext": {
   "cell_metadata_filter": "-all",
   "main_language": "python",
   "notebook_metadata_filter": "-all"
  },
  "jupytext_formats": "ipynb,md",
  "kernelspec": {
   "display_name": "Python 3",
   "language": "python",
   "name": "python3"
  },
  "language_info": {
   "codemirror_mode": {
    "name": "ipython",
    "version": 3
   },
   "file_extension": ".py",
   "mimetype": "text/x-python",
   "name": "python",
   "nbconvert_exporter": "python",
   "pygments_lexer": "ipython3",
   "version": "3.9.1"
  }
 },
 "nbformat": 4,
 "nbformat_minor": 5
}
