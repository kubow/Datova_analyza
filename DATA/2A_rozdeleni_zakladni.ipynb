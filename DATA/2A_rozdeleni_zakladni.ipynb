{
 "cells": [
  {
   "cell_type": "markdown",
   "id": "a13276a8",
   "metadata": {},
   "source": [
    "## Základní rozdělení dat\n",
    "\n",
    "[←](../Readme.md)  \n",
    "\n",
    "### Data kolem nás\n",
    "\n",
    "\n",
    "| typy datových souborů | příklady oblastí aplikací | reprezentace/příbuzné pojmy |\n",
    "|-----------| --------------------- | ----------|\n",
    "| Pohyby hodnot | Finanční data | stock, burza |\n",
    "| Časové řady    | Meteorologické | timestamp, sensory,  |\n",
    "| Grafická data | Vědecké | graph, chart, svg, vector, image, raster, bitmap, diagram, flowchart |\n",
    "| Mapová data    | Geografické obory | geo, gis, spatial, shape, geodatabase |\n",
    "| Audiovizuální záznamy   | Kulturní výzkum | sound,  |\n",
    "| Data sociálních sítí | Transportní | social,  |\n",
    "\n",
    "Pokud se budeme zabývat jednou proměnnou, její hodnota lze zařadit do jedné z následujících kategorií.\n",
    "\n",
    "[![](https://mermaid.ink/img/pako:eNp1kb9uwjAQxl_F8tRKpFIMUwYkaDpUlWglujkMVmyIG_-JzAWJAk_C1JGBR-gUHqwGkqZpVQ-2T9_Pd9-dNzi1XOAILxwrMvQaJwb5dd1H4Q119p2f9kqY6oi4EgjWRYkKZ_Vpb0z1mWazWxQEw22-YgYkMJArj27ROKRPDMTCOpnm1WHWZGxg9ZMldFJq0SHHBAV3wdCffRrLZe6qA3j4jzqg08K-Sbg8rIuQzW_Xujq6dcf27mwE3Yd0YrU01Ydqk4_IVSP02fF_tD59NCCc78Ou2u5qcUBfzoXct6NxWFfrhqRt5pKzGw5wD_uhaCa5_5_NWUwwZEKLBEf-ysWclQoSnJidR8uC-3k_cAnW4WjO1FL0MCvBTtcmxRG4UjRQLJn_bl1Tuy-E0q9W)](https://mermaid.live/edit#pako:eNp1kb9uwjAQxl_F8tRKpFIMUwYkaDpUlWglujkMVmyIG_-JzAWJAk_C1JGBR-gUHqwGkqZpVQ-2T9_Pd9-dNzi1XOAILxwrMvQaJwb5dd1H4Q119p2f9kqY6oi4EgjWRYkKZ_Vpb0z1mWazWxQEw22-YgYkMJArj27ROKRPDMTCOpnm1WHWZGxg9ZMldFJq0SHHBAV3wdCffRrLZe6qA3j4jzqg08K-Sbg8rIuQzW_Xujq6dcf27mwE3Yd0YrU01Ydqk4_IVSP02fF_tD59NCCc78Ou2u5qcUBfzoXct6NxWFfrhqRt5pKzGw5wD_uhaCa5_5_NWUwwZEKLBEf-ysWclQoSnJidR8uC-3k_cAnW4WjO1FL0MCvBTtcmxRG4UjRQLJn_bl1Tuy-E0q9W)\n",
    "\n",
    "### Kategorické typy proměnných\n",
    "\n",
    "| Škála | Měří | Matematické operátory | Dostupné operace | Střední hodnota |\n",
    "|-----------| --------------------- | ----------|----------|----------|\n",
    "| Nominální[^typ_nominal] | Klasifikace, členství | `=, ≠` | Seskupování | Modus |\n",
    "| Pořadová (ordinální)[^typ_ordinal] | Srovnání, úroveň | `>, <` |  Seřazení | Medián a jiné kvantily |\n",
    "\n",
    "\n",
    "### Numerické typy proměnných\n",
    "\n",
    "| Škála | Měří | Matematické operátory | Dostupné operace | Střední hodnota |\n",
    "|-----------| --------------------- | ----------|----------|----------|\n",
    "| Intervalová[^typ_interval] | Rozdíl, afinita | `+, -` | Odstup od jiné hodnoty | Aritmetický průměr a směrodatná odchylka | \n",
    "| Poměrová[^typ_compl] | Velikost, množství | `×, /` | Poměr hodnot | Geometrický průměr, variační koeficient | \n",
    "\n",
    "\n",
    "#### Spojitá data vs. diskrétní data\n",
    "\n",
    "\n",
    "https://cs.wikipedia.org/wiki/Spojit%C3%A9_zobrazen%C3%AD\n",
    "\n",
    "https://cs.wikipedia.org/wiki/Rozd%C4%9Blen%C3%AD_pravd%C4%9Bpodobnosti#Rozd%C4%9Blen%C3%AD_pravd%C4%9Bpodobnosti_diskr%C3%A9tn%C3%AD_n%C3%A1hodn%C3%A9_veli%C4%8Diny\n",
    "\n"
   ]
  },
  {
   "cell_type": "markdown",
   "id": "479603e6",
   "metadata": {},
   "source": [
    "### Tabulkové zobrazení dat\n",
    "\n",
    "-   jedné (Univarite)\n",
    "-   dvou (Bivariate)\n",
    "-   více proměnných (Multivariate)"
   ]
  },
  {
   "cell_type": "markdown",
   "id": "20a1abc1",
   "metadata": {},
   "source": [
    "### Zajímavé odkazy\n",
    "\n",
    "[Apache Arrow vs. parquet](http://dbmsmusings.blogspot.com/2017/10/apache-arrow-vs-parquet-and-orc-do-we.html)"
   ]
  },
  {
   "cell_type": "markdown",
   "id": "c71cab77",
   "metadata": {},
   "source": [
    "Poznámky:\n",
    "\n",
    "[^typ_nominal]: Nominální úroveň měření, detaily na [české wikipedi](https://cs.wikipedia.org/wiki/Typy_prom%C4%9Bnn%C3%BDch#Nomin%C3%A1ln%C3%AD_%C3%BArove%C5%88_m%C4%9B%C5%99en%C3%AD) nebo [anglicky](https://en.wikipedia.org/wiki/Level_of_measurement#Nominal_level).\n",
    "\n",
    "[^typ_ordinal]: Pořadové škály, detaily na [české wikipedi](https://cs.wikipedia.org/wiki/Typy_prom%C4%9Bnn%C3%BDch#Po%C5%99adov%C3%A9_%C5%A1k%C3%A1ly) nebo [anglicky](https://en.wikipedia.org/wiki/Ordinal_data).\n",
    "\n",
    "[^typ_interval]: Intervalové škály, detaily na [české wikipedi](https://cs.wikipedia.org/wiki/Typy_prom%C4%9Bnn%C3%BDch#Intervalov%C3%A9_%C5%A1k%C3%A1ly) nebo [anglicky](https://en.wikipedia.org/wiki/Ordinal_data).\n",
    "\n",
    "[^typ_compl]: Poměrové škály, detaily na [české wikipedi](https://cs.wikipedia.org/wiki/Typy_prom%C4%9Bnn%C3%BDch#Pom%C4%9Brov%C3%A9_%C5%A1k%C3%A1ly) nebo [anglicky](https://en.wikipedia.org/wiki/Ordinal_data).\n"
   ]
  }
 ],
 "metadata": {
  "jupytext": {
   "cell_metadata_filter": "-all",
   "main_language": "python",
   "notebook_metadata_filter": "-all"
  },
  "jupytext_formats": "ipynb,md",
  "kernelspec": {
   "display_name": "Python 3",
   "language": "python",
   "name": "python3"
  },
  "language_info": {
   "codemirror_mode": {
    "name": "ipython",
    "version": 3
   },
   "file_extension": ".py",
   "mimetype": "text/x-python",
   "name": "python",
   "nbconvert_exporter": "python",
   "pygments_lexer": "ipython3",
   "version": "3.9.1"
  }
 },
 "nbformat": 4,
 "nbformat_minor": 5
}
