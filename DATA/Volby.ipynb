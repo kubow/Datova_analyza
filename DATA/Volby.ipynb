{
 "cells": [
  {
   "attachments": {},
   "cell_type": "markdown",
   "id": "30c784c8",
   "metadata": {},
   "source": [
    "## Porovnání dat z voleb\n",
    "\n",
    "[←](../Readme.md)\n",
    "  \n",
    "Data dostupná na serveru https://volby.cz/. \n",
    "Postup, jak zpracovat data uveden zde:\n",
    "https://github.com/podondra/data-preprocessing/blob/master/1-visualisation/election-candidates.ipynb\n",
    "\n",
    "\n",
    " Jsou dostupné následující základní kategorie:\n",
    "\n",
    "- Prezidentské volby\n",
    "- Volby do poslanecké sněmovny\n",
    "- Volby do krajskch zastupitelstev\n",
    "\n",
    "První krok je příprava knihoven a provedení základního nastavení. Po výběru budete postupovat ve zvolené kategorii.\n"
   ]
  },
  {
   "cell_type": "code",
   "execution_count": 54,
   "id": "70037086",
   "metadata": {},
   "outputs": [
    {
     "data": {
      "application/vnd.jupyter.widget-view+json": {
       "model_id": "b5182ca5ad984ae1aa41b16fabdbbd9f",
       "version_major": 2,
       "version_minor": 0
      },
      "text/plain": [
       "interactive(children=(Dropdown(description='Vyberte typ kampaně:', options=('Prezident', 'Poslanecká sněmovna'…"
      ]
     },
     "metadata": {},
     "output_type": "display_data"
    },
    {
     "data": {
      "application/vnd.jupyter.widget-view+json": {
       "model_id": "93547c30f14e4d1cbb3f829e2359989f",
       "version_major": 2,
       "version_minor": 0
      },
      "text/plain": [
       "interactive(children=(Dropdown(description='Vyberte rok volby:', options=(), value=None), Output()), _dom_clas…"
      ]
     },
     "metadata": {},
     "output_type": "display_data"
    }
   ],
   "source": [
    "from collections import Counter\n",
    "import matplotlib.pyplot as plt\n",
    "import pandas as pd\n",
    "# import re\n",
    "from requests import get\n",
    "from xml.dom.minidom import parseString\n",
    "try:\n",
    "    from ipywidgets import interact, Dropdown\n",
    "    widget = True  # the interactive way is opened otherwise\n",
    "except ImportError:\n",
    "    widget = False  # we need to install \n",
    "\n",
    "%matplotlib inline\n",
    "\n",
    "def read_url(url, type='xml'):\n",
    "    r = get(url)\n",
    "    # print(r.url, r.ok)\n",
    "    if type=='xml':\n",
    "        return r.text\n",
    "    else:\n",
    "        return r.text\n",
    "    \n",
    "def load_xml(content, x='.'):\n",
    "    try:\n",
    "        return pd.read_xml(content, xpath=x)\n",
    "    except Exception as ex:\n",
    "        print(f'hapended this: {ex}')\n",
    "\n",
    "def select(x):\n",
    "    if x.owner == el_type:\n",
    "        el_year.options = list(elections[el_type.value].keys())\n",
    "        el_year.value = list(elections[el_type.value].keys())[0]\n",
    "\n",
    "def show(x):\n",
    "    return f'Vybraná hodnota: {x}'\n",
    "\n",
    "elections = {\n",
    "    \"Prezident\": {\n",
    "        2013: \"https://www.volby.cz/pls/prez2013/vysledky\",\n",
    "        2018: \"https://www.volby.cz/pls/prez2018/vysledky\",\n",
    "        2023: \"https://www.volby.cz/pls/prez2023nss/vysledky\"\n",
    "    },\n",
    "    \"Poslanecká sněmovna\": {\n",
    "        2013: \"https://www.volby.cz/pls/ps2013/vysledky\",\n",
    "        2017: \"https://www.volby.cz/pls/ps2017nss/vysledky\",\n",
    "        2021: \"https://www.volby.cz/pls/ps2021/vysledky\"\n",
    "    },\n",
    "    \"Krajská zastupitelstva\": {\n",
    "        2016: \"https://www.volby.cz/pls/kz2016/vysledky\",\n",
    "        2020: \"https://www.volby.cz/pls/kz2020/vysledky\"\n",
    "    }\n",
    "}\n",
    "\n",
    "el_type = Dropdown(\n",
    "    options=elections.keys(),\n",
    "    value='Prezident',\n",
    "    description='Vyberte typ kampaně:',\n",
    "    disabled=False,\n",
    ")\n",
    "el_type.observe(select)\n",
    "\n",
    "el_year = Dropdown(\n",
    "    options=[],\n",
    "    value=None,\n",
    "    description='Vyberte rok volby:',\n",
    "    disabled=False,\n",
    ")\n",
    "\n",
    "_ = interact(show, x=el_type)\n",
    "_ = interact(show, x=el_year)\n"
   ]
  },
  {
   "attachments": {},
   "cell_type": "markdown",
   "id": "23c9a0b1",
   "metadata": {},
   "source": [
    "\n",
    "## Základní statistiky\n",
    "\n"
   ]
  },
  {
   "cell_type": "code",
   "execution_count": 87,
   "id": "d67474bd",
   "metadata": {},
   "outputs": [
    {
     "name": "stdout",
     "output_type": "stream",
     "text": [
      "    OKRSKY_CELKEM  OKRSKY_ZPRAC  OKRSKY_ZPRAC_PROC  ZAPSANI_VOLICI  \\\n",
      "0            1101          1101              100.0          921819   \n",
      "1            2160          2160              100.0         1029440   \n",
      "2            1259          1259              100.0          517994   \n",
      "3            1086          1086              100.0          458952   \n",
      "4             348           348              100.0          240188   \n",
      "5            1046          1046              100.0          660357   \n",
      "6             587           587              100.0          352403   \n",
      "7             940           940              100.0          448335   \n",
      "8             875           875              100.0          414361   \n",
      "9            1137          1137              100.0          416561   \n",
      "10           1405          1405              100.0          954319   \n",
      "11            926           926              100.0          521596   \n",
      "12            684           684              100.0          483369   \n",
      "13           1319          1319              100.0         1004533   \n",
      "\n",
      "    VYDANE_OBALKY  UCAST_PROC  ODEVZDANE_OBALKY  PLATNE_HLASY  \\\n",
      "0          591245       64.14            590667        586509   \n",
      "1          632761       61.47            632375        627492   \n",
      "2          313666       60.55            313413        311171   \n",
      "3          265841       57.92            265640        263425   \n",
      "4          123855       51.57            123750        122673   \n",
      "5          341310       51.69            340986        338082   \n",
      "6          204099       57.92            203951        202451   \n",
      "7          276417       61.65            276251        273891   \n",
      "8          257987       62.26            257796        255603   \n",
      "9          263977       63.37            263826        262032   \n",
      "10         577860       60.55            577400        573857   \n",
      "11         307227       58.90            307060        304844   \n",
      "12         297417       61.53            297163        295334   \n",
      "13         557282       55.48            556934        552620   \n",
      "\n",
      "    PLATNE_HLASY_PROC  \n",
      "0               99.30  \n",
      "1               99.23  \n",
      "2               99.28  \n",
      "3               99.17  \n",
      "4               99.13  \n",
      "5               99.15  \n",
      "6               99.26  \n",
      "7               99.15  \n",
      "8               99.15  \n",
      "9               99.32  \n",
      "10              99.39  \n",
      "11              99.28  \n",
      "12              99.38  \n",
      "13              99.23  \n"
     ]
    }
   ],
   "source": [
    "# print(read_url(elections[el_type.value][el_year.value]))\n",
    "if el_type.value == \"Prezident\":\n",
    "    id = '//*[local-name()=\"CR\"]//*[local-name()=\"KANDIDAT\"]'\n",
    "    names = []\n",
    "elif el_type.value == \"Poslanecká sněmovna\":\n",
    "    id = '//*[local-name()=\"KRAJ\"]//*[local-name()=\"UCAST\"]'\n",
    "    names = []\n",
    "elif el_type.value == \"Krajská zastupitelstva\":\n",
    "    id = '//*[local-name()=\"KRZAST\"]//*[local-name()=\"UCAST\"]'\n",
    "    names = []\n",
    "content = pd.read_xml(read_url(elections[el_type.value][el_year.value]), xpath=id, names=names)\n",
    "print(content)"
   ]
  },
  {
   "cell_type": "markdown",
   "id": "5b1ed851",
   "metadata": {},
   "source": []
  },
  {
   "cell_type": "code",
   "execution_count": null,
   "id": "5a68f4c1",
   "metadata": {},
   "outputs": [],
   "source": []
  }
 ],
 "metadata": {
  "jupytext": {
   "formats": "ipynb,md"
  },
  "jupytext_formats": "ipynb,md",
  "kernelspec": {
   "display_name": "Python 3 (ipykernel)",
   "language": "python",
   "name": "python3"
  },
  "language_info": {
   "codemirror_mode": {
    "name": "ipython",
    "version": 3
   },
   "file_extension": ".py",
   "mimetype": "text/x-python",
   "name": "python",
   "nbconvert_exporter": "python",
   "pygments_lexer": "ipython3",
   "version": "3.10.6"
  }
 },
 "nbformat": 4,
 "nbformat_minor": 5
}
