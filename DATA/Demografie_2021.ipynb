{
 "cells": [
  {
   "cell_type": "markdown",
   "id": "30c784c8",
   "metadata": {},
   "source": [
    "## Porovnání dat z voleb\n",
    "\n",
    "[←](../Readme.md)\n",
    "  \n",
    "Data dostupná na serveru https://volby.cz/.\n",
    "\n",
    "První krok je příprava knihoven:\n"
   ]
  },
  {
   "cell_type": "code",
   "execution_count": 2,
   "id": "70037086",
   "metadata": {},
   "outputs": [],
   "source": [
    "import re\n",
    "from collections import Counter\n",
    "import requests\n",
    "import pandas as pd\n",
    "import matplotlib.pyplot as plt\n",
    "\n",
    "%matplotlib inline"
   ]
  },
  {
   "cell_type": "markdown",
   "id": "23c9a0b1",
   "metadata": {},
   "source": [
    "Zdroj:\n",
    "https://github.com/podondra/data-preprocessing/blob/master/1-visualisation/election-candidates.ipynb\n",
    "\n",
    "\n"
   ]
  },
  {
   "cell_type": "code",
   "execution_count": 3,
   "id": "1ee6bf34",
   "metadata": {},
   "outputs": [],
   "source": [
    "def read_party_df(url):\n",
    "    r = requests.get(url)\n",
    "    print(r.url, r.ok)\n",
    "    dfs = pd.read_html(r.text, flavor='bs4', skiprows=2)\n",
    "    column_names = {1: 'Kraj', 2: 'Number', 3: 'Name', 4: 'Age',\n",
    "                    5: 'Party', 6: 'Political affiliation'}\n",
    "    # first two rows are columns names\n",
    "    # drop uninmportant columns\n",
    "    # correct columns names\n",
    "    return dfs[0].drop([0, 1])\\\n",
    "                 .drop([0, 7, 8], axis=1)\\\n",
    "                 .rename(index=lambda x: x - 2, columns=column_names)\n",
    "          "
   ]
  },
  {
   "cell_type": "code",
   "execution_count": null,
   "id": "5a68f4c1",
   "metadata": {},
   "outputs": [],
   "source": []
  }
 ],
 "metadata": {
  "jupytext": {
   "formats": "ipynb,md"
  },
  "jupytext_formats": "ipynb,md",
  "kernelspec": {
   "display_name": "Python 3",
   "language": "python",
   "name": "python3"
  },
  "language_info": {
   "codemirror_mode": {
    "name": "ipython",
    "version": 3
   },
   "file_extension": ".py",
   "mimetype": "text/x-python",
   "name": "python",
   "nbconvert_exporter": "python",
   "pygments_lexer": "ipython3",
   "version": "3.9.1"
  }
 },
 "nbformat": 4,
 "nbformat_minor": 5
}
