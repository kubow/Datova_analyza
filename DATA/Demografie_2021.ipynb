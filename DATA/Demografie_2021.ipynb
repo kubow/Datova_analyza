{
 "cells": [
  {
   "cell_type": "markdown",
   "id": "30c784c8",
   "metadata": {},
   "source": [
    "## Porovnání dat z voleb\n",
    "\n",
    "[←](../Readme.md)\n",
    "  \n",
    "Data dostupná na serveru https://volby.cz/.\n",
    "\n",
    "První krok je příprava knihoven, nastavení a užitečných funkcí:\n"
   ]
  },
  {
   "cell_type": "code",
   "execution_count": 26,
   "id": "70037086",
   "metadata": {},
   "outputs": [],
   "source": [
    "import re\n",
    "from collections import Counter\n",
    "import matplotlib.pyplot as plt\n",
    "import pandas as pd\n",
    "\n",
    "from requests import get\n",
    "from xml.dom.minidom import parseString\n",
    "\n",
    "%matplotlib inline\n",
    "\n",
    "def read_url(url, type='xml'):\n",
    "    r = get(url)\n",
    "    # print(r.url, r.ok)\n",
    "    if type=='xml':\n",
    "        return r.text\n",
    "    else:\n",
    "        return r.text\n"
   ]
  },
  {
   "cell_type": "markdown",
   "id": "23c9a0b1",
   "metadata": {},
   "source": [
    "Zdroj:\n",
    "https://github.com/podondra/data-preprocessing/blob/master/1-visualisation/election-candidates.ipynb\n",
    "\n",
    "\n",
    "## Prezidentské volby\n"
   ]
  },
  {
   "cell_type": "code",
   "execution_count": 31,
   "id": "d67474bd",
   "metadata": {},
   "outputs": [
    {
     "name": "stdout",
     "output_type": "stream",
     "text": [
      "   KANDIDAT  UCAST\n",
      "0       NaN    NaN\n"
     ]
    }
   ],
   "source": [
    "p2018 = read_url('https://www.volby.cz/pls/prez2018/vysledky')\n",
    "print(pd.read_xml(p2018, xpath='./*'))"
   ]
  },
  {
   "cell_type": "markdown",
   "id": "5b1ed851",
   "metadata": {},
   "source": []
  },
  {
   "cell_type": "code",
   "execution_count": 3,
   "id": "1ee6bf34",
   "metadata": {},
   "outputs": [],
   "source": [
    "def read_party_df(url):\n",
    "    content = read_url(url)\n",
    "    \n",
    "    dfs = pd.read_html(r.text, flavor='bs4', skiprows=2)\n",
    "    column_names = {1: 'Kraj', 2: 'Number', 3: 'Name', 4: 'Age',\n",
    "                    5: 'Party', 6: 'Political affiliation'}\n",
    "    # first two rows are columns names\n",
    "    # drop uninmportant columns\n",
    "    # correct columns names\n",
    "    return dfs[0].drop([0, 1])\\\n",
    "                 .drop([0, 7, 8], axis=1)\\\n",
    "                 .rename(index=lambda x: x - 2, columns=column_names)\n",
    "          "
   ]
  },
  {
   "cell_type": "code",
   "execution_count": null,
   "id": "5a68f4c1",
   "metadata": {},
   "outputs": [],
   "source": []
  }
 ],
 "metadata": {
  "jupytext": {
   "formats": "ipynb,md"
  },
  "jupytext_formats": "ipynb,md",
  "kernelspec": {
   "display_name": "Python 3 (ipykernel)",
   "language": "python",
   "name": "python3"
  },
  "language_info": {
   "codemirror_mode": {
    "name": "ipython",
    "version": 3
   },
   "file_extension": ".py",
   "mimetype": "text/x-python",
   "name": "python",
   "nbconvert_exporter": "python",
   "pygments_lexer": "ipython3",
   "version": "3.10.6"
  }
 },
 "nbformat": 4,
 "nbformat_minor": 5
}
