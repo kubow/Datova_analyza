{
 "cells": [
  {
   "cell_type": "raw",
   "id": "5989f18e",
   "metadata": {
    "lines_to_next_cell": 0
   },
   "source": [
    "# Úvod do datové analýzy\n",
    "\n",
    "Autor [Jakub Vajda](http://kubow.cz).\n",
    "\n",
    "Kurz \"úvod do datové analýzy\" přiblížuje problematiku zpracování datových souborů od základních po středně pokročilé procesy. Je určen především lidem, kteří si chtějí osvojit metody zpracování dat, se kterými se setkávají při práci s daty a získat tak přehled nad metodami, které jsou k tomu použity. \n",
    "\n",
    "Jsou zde uvedeny cesty, jak datové soubory načítat, jak jejich obsah analyzovat a zobrazovat. Tento výčet není v žádném případě kompletní ukazuje však nejpoužívanější metody, se kterými se může uživatel setkat.\n",
    "\n",
    "Struktura je členěna několik složek, jejichž obsah odpovídá jednotlivým kapitolám uvedeným níže.\n",
    "\n",
    "---\n",
    "\n",
    "## 1) Inicializace projektu (INIT)\n",
    "\n",
    "<details>\n",
    "    <summary>\n",
    "         Detaily\n",
    "    </summary>\n",
    "    <p>Tato kapitola popisuje hlaně nastavení prostředí pro prezentaci, ale je zde i ucelený seznam aplikací a postupů, se kterými se u práce s daty setkáváme.</p>\n",
    "</details>  \n",
    "\n",
    "- [1A](INIT/1A_prezentace.md). příprava prezentačního prostředí \n",
    "- [1B](INIT/1B_software.md). instalace software pro práci s daty \n",
    "- [1C](INIT/1C_mindset.md). příprava myšlenkového rozpoložení (seznam užitých zkratek)\n",
    "\n",
    "\n",
    "## 2) Popis datových zdrojů (DATA)\n",
    "\n",
    "<details>\n",
    "    <summary>\n",
    "         Detaily\n",
    "    </summary>\n",
    "    <p>V této části se popisuje rozdělení různých typů úložišť pro data, jejich klasifikace dle různých kritérií a vyskytují se tu i surová data, která budou v průběhu kurzu ukazovány jako příklad.</p>\n",
    "</details>  \n",
    "\n",
    "- [2A](DATA/2A_rozdeleni_zakladni.md). základní rozdělení úložišť \n",
    "- [2B](DATA/2B_uloziste_typy.md). jednotlivé typy dat \n",
    "\n",
    "## 3) Zpracování dat (PROC)\n",
    "\n",
    "<details>\n",
    "    <summary>\n",
    "         Detaily\n",
    "    </summary>\n",
    "    <p>Téma zpracování dat je poměrně široká oblast. V této kapitole si představíme co přesně se skrývá pod pojmem datová analýza a co všechno jí musí předcházet, aby byla kvalitní. Pro lepší názornost byla dále rozdělena do tří částí, jejichž detaily si ukážeme za chvíli.</p>\n",
    "</details>  \n",
    "\n",
    "- [3A](PROC/3A_dotazy.md). sběr dat (definice zájmových oblastí, uložení do rámce)\n",
    "- [3B](PROC/3B_aktivity.md). zpracování dat (sběr, čištění, extrakce, ...)\n",
    "- [3C](PROC/3C_analyza.md). analýza dat (a jejich prezentace)\n",
    "\n"
   ]
  }
 ],
 "metadata": {
  "jupytext": {
   "cell_metadata_filter": "-all",
   "main_language": "python",
   "notebook_metadata_filter": "-all"
  },
  "jupytext_formats": "ipynb,md",
  "kernelspec": {
   "display_name": "Python 3",
   "language": "python",
   "name": "python3"
  },
  "language_info": {
   "codemirror_mode": {
    "name": "ipython",
    "version": 3
   },
   "file_extension": ".py",
   "mimetype": "text/x-python",
   "name": "python",
   "nbconvert_exporter": "python",
   "pygments_lexer": "ipython3",
   "version": "3.9.1"
  }
 },
 "nbformat": 4,
 "nbformat_minor": 5
}
