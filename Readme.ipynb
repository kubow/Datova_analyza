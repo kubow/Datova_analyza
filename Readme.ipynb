{
 "cells": [
  {
   "cell_type": "markdown",
   "id": "beb31cda",
   "metadata": {
    "lines_to_next_cell": 0
   },
   "source": [
    "# Úvod do datové analýzy\n",
    "\n",
    "Autor [Jakub Vajda](http://kubow.cz).\n",
    "\n",
    "Kurz \"úvod do datové analýzy\" přiblížuje problematiku zpracování datových souborů od základních konceptů. Jsou zde uvedeny cesty, jak datové soubory načíst v různých prostředích, jak jejich obsah analyzovat případně zobrazit.\n",
    "\n",
    "\n",
    "## Přehled kurzu\n",
    "\n",
    "### 1) Inicializace projektu \n",
    "\n",
    "Informace pro přípravu prezentačního prostředí se nachází ve složce s názvem \"INIT\", jsou rozděleny do následujících popisů:\n",
    "\n",
    "- příprava prezentačního prostředí [1A](INIT/1A_prezentace.md)\n",
    "- instalace software pro práci s daty [1B](INIT/1B_software.md)\n",
    "- příprava myšlenkového rozpoložení [1C](INIT/1C_mindset.md)\n",
    "    - seznam užitých zkratek\n",
    "\n",
    "### 2) Popis zdrojových dat\n",
    "\n",
    "Součástí složky \"DATA\" jsou všechny komentované datové soubory a dále popisy:\n",
    "\n",
    "- základní rozdělení úložišť [2A](DATA/2A_rozdeleni_zakladni.md)\n",
    "- popisy jednotlivých typů [2B](DATA/2B_uloziste_typy.md)\n",
    " \n",
    "### 3) Procesování dat\n",
    "\n",
    "Tématika práce s daty je uložena pod složkou \"PROC\" v následujících tématech:\n",
    "\n",
    "- dotazování na data [3A](PROC/3A_dotazy.md)\n",
    "- zobrazování dat [3B](PROC/3B_zobrazeni.md)\n",
    "- analýzy dat [3C](PROC/3C_analyza.md)\n",
    "\n",
    "\n",
    "## Technické předpoklady kurzu\n",
    "\n",
    "- Teoretické\n",
    "\t- Základy matematiky\n",
    "\t- Základy statistiky\n",
    "- Praktické\n",
    "\t- Uživatelská práce na PC\n",
    "\t- Prezentační platformy\n",
    "\t\t- Office (PowerPoint, OpenOffice, LibreOffice, ...)\n",
    "        - Markdown textový záznam\n",
    "\t\t- Web (jupyter)\n"
   ]
  },
  {
   "cell_type": "markdown",
   "id": "0fe93b68",
   "metadata": {},
   "source": [
    "---\n",
    "\n",
    "Motto: Práce v izolovaném prostředí na kopii dat.\n"
   ]
  },
  {
   "cell_type": "code",
   "execution_count": 3,
   "id": "6803d3e1",
   "metadata": {},
   "outputs": [
    {
     "name": "stdout",
     "output_type": "stream",
     "text": [
      "Available Themes: \n",
      "   chesterish\n",
      "   grade3\n",
      "   gruvboxd\n",
      "   gruvboxl\n",
      "   monokai\n",
      "   oceans16\n",
      "   onedork\n",
      "   solarizedd\n",
      "   solarizedl\n"
     ]
    }
   ],
   "source": [
    "!jt -l "
   ]
  },
  {
   "cell_type": "code",
   "execution_count": 2,
   "id": "6ff75892",
   "metadata": {},
   "outputs": [],
   "source": [
    "!jt -t solarizedl"
   ]
  }
 ],
 "metadata": {
  "jupytext": {
   "cell_metadata_filter": "-all",
   "main_language": "python",
   "notebook_metadata_filter": "-all"
  },
  "jupytext_formats": "ipynb,md",
  "kernelspec": {
   "display_name": "Python 3",
   "language": "python",
   "name": "python3"
  },
  "language_info": {
   "codemirror_mode": {
    "name": "ipython",
    "version": 3
   },
   "file_extension": ".py",
   "mimetype": "text/x-python",
   "name": "python",
   "nbconvert_exporter": "python",
   "pygments_lexer": "ipython3",
   "version": "3.9.1"
  }
 },
 "nbformat": 4,
 "nbformat_minor": 5
}
