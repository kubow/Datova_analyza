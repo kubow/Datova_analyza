{
 "cells": [
  {
   "cell_type": "markdown",
   "id": "beb31cda",
   "metadata": {
    "lines_to_next_cell": 0
   },
   "source": [
    "# Úvod do datové analýzy\n",
    "\n",
    "Autor [Jakub Vajda](http://kubow.cz).\n",
    "\n",
    "Kurz \"úvod do datové analýzy\" přiblížuje problematiku zpracování datových souborů od základních konceptů. Jsou zde uvedeny cesty, jak datové soubory načíst v různých prostředích, jak jejich obsah analyzovat případně zobrazit.\n",
    "\n",
    "---\n",
    "\n",
    "## Přehled kurzu\n",
    "\n",
    "---\n",
    "\n",
    "### 1) Inicializace projektu \n",
    "\n",
    "<details>\n",
    "    <summary>\n",
    "         Detaily\n",
    "    </summary>\n",
    "    Informace pro přípravu prezentačního prostředí se nachází ve složce s názvem \"INIT\".\n",
    "    Zároveň s těmito informacemi se předpokládá učitá základní znalost, která zasahuje do následujících oblastí:\n",
    "    <ul>\n",
    "        <li>Teoretické znalosti\n",
    "            <ul>\n",
    "                <li>Základy matematiky</li>\n",
    "                <li>Základy statistiky</li>\n",
    "            </ul>\n",
    "        </li>\n",
    "        <li>Praktické znalosti\n",
    "            <ul>\n",
    "                <li>Uživatelská práce na PC</li>\n",
    "                <li>Práce s jednou z prezentačních platforem:</li>\n",
    "                    <ul>\n",
    "                        <li>Office nástroje (PowerPoint, OpenOffice, LibreOffice, ...)</li>\n",
    "                        <li>Markdown textový záznam</li>\n",
    "                        <li>Webová prezentace pomocí modulu jupyter</li>\n",
    "                    </ul>\n",
    "            </ul>\n",
    "        </li>\n",
    "    </ul>\n",
    "</details>  \n",
    "\n",
    "- [1A](INIT/1A_prezentace.md). příprava prezentačního prostředí \n",
    "- [1B](INIT/1B_software.md). instalace software pro práci s daty \n",
    "- [1C](INIT/1C_mindset.md). příprava myšlenkového rozpoložení (seznam užitých zkratek)\n",
    "\n",
    "---\n",
    "\n",
    "### 2) Popis zdrojových dat\n",
    "\n",
    "<details>\n",
    "    <summary>\n",
    "         Detaily\n",
    "    </summary>\n",
    "    Součástí složky \"DATA\" jsou všechny komentované datové soubory a dále popisy:\n",
    "</details>  \n",
    "\n",
    "- [2A](DATA/2A_rozdeleni_zakladni.md). základní rozdělení úložišť \n",
    "- [2B](DATA/2B_uloziste_typy.md). jednotlivé typy dat \n",
    "\n",
    "---\n",
    " \n",
    "### 3) Procesování dat\n",
    "\n",
    "<details>\n",
    "    <summary>\n",
    "         Detaily\n",
    "    </summary>\n",
    "    Tématika práce s daty je uložena pod složkou \"PROC\" v následujících částech:\n",
    "</details>  \n",
    "\n",
    "\n",
    "- [3A](PROC/3A_dotazy.md). dotazování na data (definice zájmových oblastí, uložení do rámce)\n",
    "- [3B](PROC/3B_aktivity.md). aktivity nad daty (sběr, čištění, extrakce, ...)\n",
    "- [3C](PROC/3C_analyza.md). analýzy dat (a jejich prezentace)\n",
    "\n",
    "---\n"
   ]
  },
  {
   "cell_type": "markdown",
   "id": "0fe93b68",
   "metadata": {},
   "source": [
    "Motto: Práce v izolovaném prostředí na kopii dat.\n"
   ]
  }
 ],
 "metadata": {
  "jupytext": {
   "cell_metadata_filter": "-all",
   "main_language": "python",
   "notebook_metadata_filter": "-all"
  },
  "jupytext_formats": "ipynb,md",
  "kernelspec": {
   "display_name": "Python 3",
   "language": "python",
   "name": "python3"
  },
  "language_info": {
   "codemirror_mode": {
    "name": "ipython",
    "version": 3
   },
   "file_extension": ".py",
   "mimetype": "text/x-python",
   "name": "python",
   "nbconvert_exporter": "python",
   "pygments_lexer": "ipython3",
   "version": "3.9.1"
  }
 },
 "nbformat": 4,
 "nbformat_minor": 5
}
