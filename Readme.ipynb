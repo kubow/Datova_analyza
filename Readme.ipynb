{
 "cells": [
  {
   "cell_type": "markdown",
   "id": "beb31cda",
   "metadata": {
    "lines_to_next_cell": 0
   },
   "source": [
    "# Úvod do datové analýzy\n",
    "\n",
    "Autor [Jakub Vajda](http://kubow.cz).\n",
    "\n",
    "Kurz \"úvod do datové analýzy\" se snaží přiblížit problematiku zpracování datových souborů pro úplné začátečníky. Jsou zde uvedeny cesty, jak datové soubory načíst v různých prostředích, jak jejich obsah analyzovat případně zobrazit.\n",
    "\n",
    "\n",
    "## Přehled kurzu\n",
    "\n",
    "### 1) Inicializace projektu \n",
    "- příprava prezentačního prostředí [1A](1_inicializace/A_prezentace.md)\n",
    "- instalace software pro práci s daty [1B](1_inicializace/B_software.md)\n",
    "- příprava myšlenkového rozpoložení [1C](1_inicializace/C_mindset.md)\n",
    "    - seznam užitých zkratek\n",
    "    \n",
    "\n",
    "### 2) Popis zdrojových dat\n",
    "- základní rozdělení úložišť [2A](2_zdrojova_data/A_rozdeleni_zakladni.md)\n",
    "- popisy jednotlivých typů [2B](2_zdrojova_data/B_uloziste_typy.md)\n",
    "    \n",
    "### 3) Analýza dat\n",
    "- dotazování na data [3A](3_analyza/A_dotazy.md)\n",
    "- zobrazování dat [3B](3_analyza/B_zobrazeni.md)\n",
    "- analýzy dat [3C](3_analyza/C_analyza.md)\n",
    "\n",
    "## Technické předpoklady kurzu\n",
    "\n",
    "- Teoretické\n",
    "\t- Základy matematiky\n",
    "\t- Základy statistiky\n",
    "- Praktické\n",
    "\t- Uživatelská práce na PC\n",
    "\t- Prezentační platformy\n",
    "\t\t- Office (PowerPoint, OpenOffice, LibreOffice, ...)\n",
    "        - Markdown textový záznam\n",
    "\t\t- Web (jupyter)\n"
   ]
  },
  {
   "cell_type": "markdown",
   "id": "0fe93b68",
   "metadata": {},
   "source": [
    "---\n",
    "\n",
    "Motto: Práce v izolovaném prostředí na kopii dat.\n"
   ]
  }
 ],
 "metadata": {
  "jupytext": {
   "cell_metadata_filter": "-all",
   "main_language": "python",
   "notebook_metadata_filter": "-all"
  },
  "jupytext_formats": "ipynb,md",
  "kernelspec": {
   "display_name": "Python 3",
   "language": "python",
   "name": "python3"
  },
  "language_info": {
   "codemirror_mode": {
    "name": "ipython",
    "version": 3
   },
   "file_extension": ".py",
   "mimetype": "text/x-python",
   "name": "python",
   "nbconvert_exporter": "python",
   "pygments_lexer": "ipython3",
   "version": "3.9.1"
  }
 },
 "nbformat": 4,
 "nbformat_minor": 5
}
